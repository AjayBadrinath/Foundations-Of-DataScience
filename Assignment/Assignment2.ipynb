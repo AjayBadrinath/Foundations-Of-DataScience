{
 "cells": [
  {
   "cell_type": "markdown",
   "id": "2865a660",
   "metadata": {},
   "source": [
    "# Assignment 2  - Exploratory Data Analysis"
   ]
  },
  {
   "cell_type": "code",
   "execution_count": null,
   "id": "5fb1f32c",
   "metadata": {},
   "outputs": [],
   "source": [
    "import pandas as p\n",
    "import numpy as np"
   ]
  },
  {
   "cell_type": "markdown",
   "id": "c4468363",
   "metadata": {},
   "source": [
    "##### 1. Reading The File"
   ]
  },
  {
   "cell_type": "code",
   "execution_count": null,
   "id": "16b53ec2",
   "metadata": {},
   "outputs": [],
   "source": [
    "data=p.read_csv(\"data.csv\")# Read csv file\n",
    "data"
   ]
  },
  {
   "cell_type": "markdown",
   "id": "8fe94871",
   "metadata": {},
   "source": [
    "##### 2. Fill/Drop NaN Values Using Appropriate Method"
   ]
  },
  {
   "cell_type": "code",
   "execution_count": null,
   "id": "7f70fb0b",
   "metadata": {},
   "outputs": [],
   "source": [
    "data.isna()# check for NULL Values"
   ]
  },
  {
   "cell_type": "code",
   "execution_count": null,
   "id": "4c2263c8",
   "metadata": {},
   "outputs": [],
   "source": [
    "data.info()"
   ]
  },
  {
   "cell_type": "code",
   "execution_count": null,
   "id": "25e15e98",
   "metadata": {},
   "outputs": [],
   "source": [
    "data.count()"
   ]
  },
  {
   "cell_type": "code",
   "execution_count": null,
   "id": "4c83622c",
   "metadata": {},
   "outputs": [],
   "source": [
    "tmp=data.dropna()"
   ]
  },
  {
   "cell_type": "code",
   "execution_count": null,
   "id": "9d593af5",
   "metadata": {},
   "outputs": [],
   "source": [
    "tmp.info()"
   ]
  },
  {
   "cell_type": "code",
   "execution_count": null,
   "id": "8d727d1c",
   "metadata": {},
   "outputs": [],
   "source": [
    "tmp=data.select_dtypes(np.number)    #Selection of only numeric values"
   ]
  },
  {
   "cell_type": "code",
   "execution_count": null,
   "id": "f19fdc24",
   "metadata": {},
   "outputs": [],
   "source": [
    "tmp"
   ]
  },
  {
   "cell_type": "code",
   "execution_count": null,
   "id": "d1aa4262",
   "metadata": {},
   "outputs": [],
   "source": [
    "f1=data.groupby(['Make','Model']) #Grouping based off Make And Model to fill Null Values in Engine"
   ]
  },
  {
   "cell_type": "code",
   "execution_count": null,
   "id": "c844a00b",
   "metadata": {},
   "outputs": [],
   "source": [
    "type(data)\n",
    "data['Engine HP']=f1['Engine HP'].transform(lambda k :k.fillna(k.mean()))\n",
    "data['Engine Cylinders']=f1['Engine Cylinders'].transform(lambda x:x.fillna(x.mode))\n",
    "f1['Engine HP'].mean().count()                       # So Mean Makes more sense here to fill nan values as we categorise the data into make and model and each make with specific model must have similar HP\n",
    "\n",
    "data.info()"
   ]
  },
  {
   "cell_type": "code",
   "execution_count": null,
   "id": "e551c8df",
   "metadata": {},
   "outputs": [],
   "source": [
    "tmp=data.select_dtypes(np.number)\n",
    "\n",
    "tmp=tmp.dropna()\n",
    "tmp.info()"
   ]
  },
  {
   "cell_type": "markdown",
   "id": "7ff9fad1",
   "metadata": {},
   "source": [
    "##### 3.Check For Outliers in the given Data"
   ]
  },
  {
   "cell_type": "code",
   "execution_count": null,
   "id": "fc87b464",
   "metadata": {},
   "outputs": [],
   "source": [
    "# Checking for Outliers\n",
    "col=['Make','Engine HP']\n",
    "df=data[col]\n",
    "k=df.groupby('Make')\n",
    "k.boxplot()"
   ]
  },
  {
   "cell_type": "code",
   "execution_count": null,
   "id": "68fbe765",
   "metadata": {},
   "outputs": [],
   "source": [
    "#Function to compute inter quartile number\n",
    "def iqr(data,col):\n",
    "    q1=data[col].quantile(0.25)\n",
    "    q3=data[col].quantile(0.75)\n",
    "    iqr=q3-q1\n",
    "    return iqr,q3,q1"
   ]
  },
  {
   "cell_type": "code",
   "execution_count": null,
   "id": "19fc56c4",
   "metadata": {},
   "outputs": [],
   "source": [
    "# Sanity checks for Outlier If Any we will replace the data \n",
    "iqr,q1,q3=iqr(df,'Engine HP')\n",
    "lower=q1-1.5*iqr\n",
    "upper=q3+1.5*iqr\n",
    "df[(df['Engine HP']<lower) & (df['Engine HP']>upper)]\n",
    "# This shows that there are no outliers in the 'Engine HP ' column\n",
    "(df['Engine HP']<lower)\n"
   ]
  },
  {
   "cell_type": "code",
   "execution_count": null,
   "id": "b2b1fd19",
   "metadata": {},
   "outputs": [],
   "source": [
    "df[(df['Engine HP']>lower) & (df['Engine HP']<upper)] #print non outlier value"
   ]
  },
  {
   "cell_type": "code",
   "execution_count": null,
   "id": "7dc4fdaa",
   "metadata": {},
   "outputs": [],
   "source": [
    "col1=['Make','highway MPG','city mpg']\n",
    "df1=data[col1]\n",
    "k1=df1.groupby('Make')\n",
    "k1.boxplot()"
   ]
  },
  {
   "cell_type": "code",
   "execution_count": null,
   "id": "db28f355",
   "metadata": {},
   "outputs": [],
   "source": [
    "iqr,q1,q3=iqr(df1,'highway MPG')\n",
    "lower_h=q1-1.5*iqr\n",
    "upper_h=q3+1.5*iqr"
   ]
  },
  {
   "cell_type": "code",
   "execution_count": null,
   "id": "776a5fbc",
   "metadata": {},
   "outputs": [],
   "source": [
    "iqr1,q1,q3=iqr(df1,'city mpg')\n",
    "lower_h=q1-1.5*iqr1\n",
    "upper_h=q3+1.5*iqr1"
   ]
  },
  {
   "cell_type": "code",
   "execution_count": null,
   "id": "f50ed384",
   "metadata": {},
   "outputs": [],
   "source": [
    "df1[(df1['highway MPG']<lower_h)&(df1['highway MPG']>upper_h)]  # NO OUTLIERS PResent"
   ]
  },
  {
   "cell_type": "code",
   "execution_count": null,
   "id": "3a8bab29",
   "metadata": {},
   "outputs": [],
   "source": [
    "df1[(df1['city mpg']<lower_h)&(df1['city mpg']>upper_h)] ## NO OUTLIERS PResent"
   ]
  },
  {
   "cell_type": "markdown",
   "id": "e2ad0f43",
   "metadata": {},
   "source": [
    "##### 4.Unique Values in the Table"
   ]
  },
  {
   "cell_type": "code",
   "execution_count": null,
   "id": "923b4270",
   "metadata": {},
   "outputs": [],
   "source": [
    "\n",
    "tmp.Year.unique()"
   ]
  },
  {
   "cell_type": "code",
   "execution_count": null,
   "id": "4ae26df3",
   "metadata": {},
   "outputs": [],
   "source": [
    "tmp.info()"
   ]
  },
  {
   "cell_type": "code",
   "execution_count": null,
   "id": "a0ea8981",
   "metadata": {},
   "outputs": [],
   "source": [
    "tmp['Engine HP'].unique()"
   ]
  },
  {
   "cell_type": "code",
   "execution_count": null,
   "id": "d88a3be6",
   "metadata": {},
   "outputs": [],
   "source": [
    "tmp['Number of Doors'].unique()"
   ]
  },
  {
   "cell_type": "code",
   "execution_count": null,
   "id": "ed597456",
   "metadata": {},
   "outputs": [],
   "source": [
    "tmp['MSRP'].unique()"
   ]
  },
  {
   "cell_type": "code",
   "execution_count": null,
   "id": "493eba6c",
   "metadata": {},
   "outputs": [],
   "source": [
    "data['Model'].unique()"
   ]
  },
  {
   "cell_type": "code",
   "execution_count": null,
   "id": "28532f98",
   "metadata": {},
   "outputs": [],
   "source": [
    "data['Make'].unique()"
   ]
  },
  {
   "cell_type": "code",
   "execution_count": null,
   "id": "3617a850",
   "metadata": {},
   "outputs": [],
   "source": [
    "data['Popularity'].unique()"
   ]
  },
  {
   "cell_type": "code",
   "execution_count": null,
   "id": "cfae8499",
   "metadata": {},
   "outputs": [],
   "source": [
    "data['Transmission Type'].unique()"
   ]
  },
  {
   "cell_type": "code",
   "execution_count": null,
   "id": "0098ef03",
   "metadata": {},
   "outputs": [],
   "source": [
    "data['Vehicle Size'].unique()"
   ]
  },
  {
   "cell_type": "code",
   "execution_count": null,
   "id": "5853bc0e",
   "metadata": {},
   "outputs": [],
   "source": [
    "data['Vehicle Style'].unique()"
   ]
  },
  {
   "cell_type": "code",
   "execution_count": null,
   "id": "2bbbc203",
   "metadata": {},
   "outputs": [],
   "source": [
    "data=data.dropna()"
   ]
  },
  {
   "cell_type": "code",
   "execution_count": null,
   "id": "5314c245",
   "metadata": {},
   "outputs": [],
   "source": [
    "\n",
    "data.drop(['Market Category'],axis=1)\n"
   ]
  },
  {
   "cell_type": "code",
   "execution_count": null,
   "id": "513799df",
   "metadata": {},
   "outputs": [],
   "source": [
    "data=data.dropna()"
   ]
  },
  {
   "cell_type": "markdown",
   "id": "6543a953",
   "metadata": {},
   "source": [
    "###### 5.Average of  Engine HP with Manual Transmission Type"
   ]
  },
  {
   "cell_type": "code",
   "execution_count": null,
   "id": "5b1c335f",
   "metadata": {},
   "outputs": [],
   "source": [
    "gp1=data.groupby(['Transmission Type','Driven_Wheels'])\n",
    "\n",
    "op1=gp1['Engine HP'].mean()"
   ]
  },
  {
   "cell_type": "code",
   "execution_count": null,
   "id": "861728ef",
   "metadata": {},
   "outputs": [],
   "source": [
    "op1"
   ]
  },
  {
   "cell_type": "code",
   "execution_count": null,
   "id": "881f3612",
   "metadata": {},
   "outputs": [],
   "source": [
    "op1['MANUAL']['rear wheel drive']"
   ]
  },
  {
   "cell_type": "markdown",
   "id": "ba3bdfec",
   "metadata": {},
   "source": [
    "##### 6.Min ,Max, Avg for Different car's city mileage"
   ]
  },
  {
   "cell_type": "code",
   "execution_count": null,
   "id": "58973659",
   "metadata": {},
   "outputs": [],
   "source": [
    "g2=data.groupby(['Make','Vehicle Style'])"
   ]
  },
  {
   "cell_type": "code",
   "execution_count": null,
   "id": "d38a43e4",
   "metadata": {},
   "outputs": [],
   "source": [
    "g2['city mpg'].mean()"
   ]
  },
  {
   "cell_type": "code",
   "execution_count": null,
   "id": "308ea0d0",
   "metadata": {},
   "outputs": [],
   "source": [
    "g2['city mpg'].median()"
   ]
  },
  {
   "cell_type": "code",
   "execution_count": null,
   "id": "d608a288",
   "metadata": {},
   "outputs": [],
   "source": [
    "g2['city mpg'].min()"
   ]
  },
  {
   "cell_type": "code",
   "execution_count": null,
   "id": "15054904",
   "metadata": {},
   "outputs": [],
   "source": [
    "g2['city mpg'].max()"
   ]
  },
  {
   "cell_type": "markdown",
   "id": "07653add",
   "metadata": {},
   "source": [
    "##### 7.Quick Plots for visualisation"
   ]
  },
  {
   "cell_type": "code",
   "execution_count": null,
   "id": "2b51d55e",
   "metadata": {},
   "outputs": [],
   "source": [
    "import seaborn as s\n",
    "s.pairplot(data)"
   ]
  }
 ],
 "metadata": {
  "kernelspec": {
   "display_name": "Python 3 (ipykernel)",
   "language": "python",
   "name": "python3"
  },
  "language_info": {
   "codemirror_mode": {
    "name": "ipython",
    "version": 3
   },
   "file_extension": ".py",
   "mimetype": "text/x-python",
   "name": "python",
   "nbconvert_exporter": "python",
   "pygments_lexer": "ipython3",
   "version": "3.9.13"
  }
 },
 "nbformat": 4,
 "nbformat_minor": 5
}
