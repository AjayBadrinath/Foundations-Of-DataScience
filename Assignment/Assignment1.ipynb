{
 "cells": [
  {
   "cell_type": "markdown",
   "id": "9b2832d6",
   "metadata": {},
   "source": [
    "# Assignment 1 Data Wrangling \n"
   ]
  },
  {
   "cell_type": "markdown",
   "id": "ce62d3a8",
   "metadata": {},
   "source": [
    "### Question 1"
   ]
  },
  {
   "cell_type": "code",
   "execution_count": null,
   "id": "0699dfc4",
   "metadata": {},
   "outputs": [],
   "source": [
    "import pandas as pd\n",
    "import seaborn as sn\n",
    "import numpy "
   ]
  },
  {
   "cell_type": "code",
   "execution_count": null,
   "id": "4b136a7f",
   "metadata": {},
   "outputs": [],
   "source": [
    "file=pd.read_csv(\"employees.csv\")"
   ]
  },
  {
   "cell_type": "code",
   "execution_count": null,
   "id": "1969ec2c",
   "metadata": {},
   "outputs": [],
   "source": [
    "file.info()"
   ]
  },
  {
   "cell_type": "code",
   "execution_count": null,
   "id": "402e3624",
   "metadata": {},
   "outputs": [],
   "source": [
    "print(file.count()[:])"
   ]
  },
  {
   "cell_type": "code",
   "execution_count": null,
   "id": "c4c3c13b",
   "metadata": {},
   "outputs": [],
   "source": [
    "numeric=['object']\n",
    "tmp=file.select_dtypes(include=numeric)"
   ]
  },
  {
   "cell_type": "code",
   "execution_count": null,
   "id": "1feef280",
   "metadata": {},
   "outputs": [],
   "source": [
    "tmp=tmp.dropna()"
   ]
  },
  {
   "cell_type": "code",
   "execution_count": null,
   "id": "48602b39",
   "metadata": {},
   "outputs": [],
   "source": [
    "tmp=file.select_dtypes(include=numpy.number)"
   ]
  },
  {
   "cell_type": "code",
   "execution_count": null,
   "id": "9f85aa8c",
   "metadata": {},
   "outputs": [],
   "source": [
    "tmp"
   ]
  },
  {
   "cell_type": "code",
   "execution_count": null,
   "id": "145d368b",
   "metadata": {},
   "outputs": [],
   "source": [
    "df2=pd.DataFrame(round(tmp.describe( ),2))\n",
    "df2=df2.drop(['25%','50%','75%'])\n",
    "df2=df2.transpose()\n",
    "df2\n",
    "#df2[['count','mean','std','min']]\n",
    "#df2['count','mean','std','min']\n",
    "#df1.insert(column=['count','mean','std','min'],values=df2)\n"
   ]
  },
  {
   "cell_type": "code",
   "execution_count": null,
   "id": "5fcccdcf",
   "metadata": {},
   "outputs": [],
   "source": [
    "df1=pd.DataFrame(columns=['count','mean','std','min','max'])\n",
    "#temp_f=lambda x: x['temp_c'] * 9 / 5 + 32,\n",
    "...          ## temp_k=lambda x: (x['temp_f'] +  459.67) * 5 / 9\n",
    "df1.assign(count=df2['count'],mean=df2['mean'],std=df2['std'],min=df2['min'],max=df2['max'])"
   ]
  },
  {
   "cell_type": "markdown",
   "id": "57d04136",
   "metadata": {},
   "source": [
    "### Question 2"
   ]
  },
  {
   "cell_type": "code",
   "execution_count": null,
   "id": "bf82cf37",
   "metadata": {},
   "outputs": [],
   "source": [
    "file2=pd.read_excel(\"stores.xlsx\")\n",
    "file2.insert(14,'shipment_days','Placeholder')\n",
    "file2=file2.assign(shipment_days=lambda x:x['Ship Date']-x['Order Date'])\n",
    "file2\n",
    "#file2['Ship Date']-file2['Order Date']"
   ]
  },
  {
   "cell_type": "code",
   "execution_count": null,
   "id": "9844ba1a",
   "metadata": {},
   "outputs": [],
   "source": [
    "file2.info()"
   ]
  },
  {
   "cell_type": "code",
   "execution_count": null,
   "id": "7acd8078",
   "metadata": {},
   "outputs": [],
   "source": [
    "tmp=file2.select_dtypes(include=numpy.number)"
   ]
  },
  {
   "cell_type": "code",
   "execution_count": null,
   "id": "6113c191",
   "metadata": {},
   "outputs": [],
   "source": [
    "sn.pairplot(tmp)"
   ]
  },
  {
   "cell_type": "code",
   "execution_count": null,
   "id": "b7f8bdf2",
   "metadata": {},
   "outputs": [],
   "source": [
    "sn.jointplot(x=\"Sales\",y=\"Quantity\",data=tmp,kind=\"reg\",truncate=False,color='b')"
   ]
  }
 ],
 "metadata": {
  "kernelspec": {
   "display_name": "Python 3 (ipykernel)",
   "language": "python",
   "name": "python3"
  },
  "language_info": {
   "codemirror_mode": {
    "name": "ipython",
    "version": 3
   },
   "file_extension": ".py",
   "mimetype": "text/x-python",
   "name": "python",
   "nbconvert_exporter": "python",
   "pygments_lexer": "ipython3",
   "version": "3.9.13"
  }
 },
 "nbformat": 4,
 "nbformat_minor": 5
}
