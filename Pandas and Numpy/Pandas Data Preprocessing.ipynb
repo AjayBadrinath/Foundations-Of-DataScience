{
 "cells": [
  {
   "cell_type": "markdown",
   "id": "188c6789",
   "metadata": {},
   "source": [
    "### Read Excel file in Pandas"
   ]
  },
  {
   "cell_type": "code",
   "execution_count": null,
   "id": "c8805361",
   "metadata": {},
   "outputs": [],
   "source": [
    "import pandas as pd\n",
    "data=pd.read_csv(\"titanic.csv\")"
   ]
  },
  {
   "cell_type": "code",
   "execution_count": null,
   "id": "982d3ade",
   "metadata": {},
   "outputs": [],
   "source": [
    "type(data)                      #type dataframe \n"
   ]
  },
  {
   "cell_type": "code",
   "execution_count": null,
   "id": "e4201265",
   "metadata": {},
   "outputs": [],
   "source": [
    "data.info()  #shows info of data"
   ]
  },
  {
   "cell_type": "code",
   "execution_count": null,
   "id": "4432ce15",
   "metadata": {},
   "outputs": [],
   "source": [
    "data.describe() # takes numeric columns and provide descriptive statistical analysis of the data"
   ]
  },
  {
   "cell_type": "code",
   "execution_count": null,
   "id": "2582ce98",
   "metadata": {},
   "outputs": [],
   "source": [
    "data.head()        #shows first 5 entries"
   ]
  },
  {
   "cell_type": "code",
   "execution_count": null,
   "id": "c9b14207",
   "metadata": {},
   "outputs": [],
   "source": [
    "data.tail()   #prints last 5 rows of data"
   ]
  },
  {
   "cell_type": "markdown",
   "id": "7d271982",
   "metadata": {},
   "source": [
    "## Drop data  "
   ]
  },
  {
   "cell_type": "code",
   "execution_count": null,
   "id": "e489b319",
   "metadata": {},
   "outputs": [],
   "source": [
    "dataset =data.drop(['Cabin','Parch','Ticket','PassengerId'],axis=1 )  #specify name of column  #if >50% of NaN values in a table drop the column\n",
    "#drop a column using axis =1 -> return a new dataframe object"
   ]
  },
  {
   "cell_type": "code",
   "execution_count": null,
   "id": "de26c6e3",
   "metadata": {},
   "outputs": [],
   "source": [
    "dataset.info()"
   ]
  },
  {
   "cell_type": "code",
   "execution_count": null,
   "id": "6d76198a",
   "metadata": {},
   "outputs": [],
   "source": [
    "tmp=dataset.dropna()   #drop all null values when nothing ()\n",
    "tmp.info()"
   ]
  },
  {
   "cell_type": "code",
   "execution_count": null,
   "id": "2c16a6e3",
   "metadata": {},
   "outputs": [],
   "source": [
    "tmp.head(7)"
   ]
  },
  {
   "cell_type": "markdown",
   "id": "a235e7f3",
   "metadata": {},
   "source": [
    "### Filling Missing Values"
   ]
  },
  {
   "cell_type": "markdown",
   "id": "52373020",
   "metadata": {},
   "source": [
    "##### check the range of values or check the distribution if normal use mean or use mode when skewed"
   ]
  },
  {
   "cell_type": "code",
   "execution_count": null,
   "id": "b71d703b",
   "metadata": {},
   "outputs": [],
   "source": [
    "dataset['Age']=dataset['Age'].fillna(round(dataset['Age'].mean(),2)) \n",
    "#Try to avoid loops  in pandas as functions are already available.\n",
    "#mean function ignores null values "
   ]
  },
  {
   "cell_type": "code",
   "execution_count": null,
   "id": "b035a136",
   "metadata": {},
   "outputs": [],
   "source": [
    "dataset.head(7)"
   ]
  },
  {
   "cell_type": "code",
   "execution_count": null,
   "id": "62689ba8",
   "metadata": {},
   "outputs": [],
   "source": [
    "#Group as in description\n",
    "dataset['Age'].fillna(round(dataset[dataset['Desc']=='Adult']['Age'].mean(),2))"
   ]
  },
  {
   "cell_type": "code",
   "execution_count": null,
   "id": "7db0492e",
   "metadata": {},
   "outputs": [],
   "source": [
    "dataset.head(19)\n"
   ]
  },
  {
   "cell_type": "code",
   "execution_count": null,
   "id": "ce40aba8",
   "metadata": {},
   "outputs": [],
   "source": [
    "dataset.info()\n"
   ]
  },
  {
   "cell_type": "code",
   "execution_count": null,
   "id": "bc023a1a",
   "metadata": {},
   "outputs": [],
   "source": [
    "gp=dataset.groupby(['Sex','Desc'])    #do not return dataframe"
   ]
  },
  {
   "cell_type": "code",
   "execution_count": null,
   "id": "5eff06cb",
   "metadata": {},
   "outputs": [],
   "source": [
    "gp['Age'].mean()    #Mean computed "
   ]
  },
  {
   "cell_type": "code",
   "execution_count": null,
   "id": "c916e116",
   "metadata": {},
   "outputs": [],
   "source": [
    "gp.get_group(('male','Child'))     # return data frame containing gender male and desc child can also be done via boolean indexing"
   ]
  },
  {
   "cell_type": "code",
   "execution_count": null,
   "id": "bb519e73",
   "metadata": {},
   "outputs": [],
   "source": [
    "## Transform function   ... to putback data to dataframe transform takes func as arg \n",
    "dataset['Age']=gp['Age'].transform(lambda k:k.fillna(k.mean()))## PAss gp['Age'] as arg to lambda fn ..\n"
   ]
  },
  {
   "cell_type": "code",
   "execution_count": null,
   "id": "d674e5b9",
   "metadata": {},
   "outputs": [],
   "source": [
    "add=lambda x,y: x+y      #Anonymous function.\n",
    "add(1,2)"
   ]
  },
  {
   "cell_type": "code",
   "execution_count": null,
   "id": "ece42ecf",
   "metadata": {},
   "outputs": [],
   "source": [
    "dataset.tail()"
   ]
  },
  {
   "cell_type": "code",
   "execution_count": null,
   "id": "88e7cdbb",
   "metadata": {},
   "outputs": [],
   "source": [
    "dataset.info()\n",
    "dataset=dataset.dropna()\n",
    "dataset.info()"
   ]
  },
  {
   "cell_type": "markdown",
   "id": "6b6ed18f",
   "metadata": {},
   "source": [
    "###### Outliers"
   ]
  },
  {
   "cell_type": "code",
   "execution_count": null,
   "id": "b1d4e113",
   "metadata": {},
   "outputs": [],
   "source": [
    "## Box Plot used for outlier detections\n",
    "col=['Pclass','Fare']"
   ]
  },
  {
   "cell_type": "code",
   "execution_count": null,
   "id": "e6be4821",
   "metadata": {},
   "outputs": [],
   "source": [
    "df=dataset[col]"
   ]
  },
  {
   "cell_type": "code",
   "execution_count": null,
   "id": "e86fb2ba",
   "metadata": {},
   "outputs": [],
   "source": [
    "df                      #contain only 2 col"
   ]
  },
  {
   "cell_type": "code",
   "execution_count": null,
   "id": "8547ff4b",
   "metadata": {},
   "outputs": [],
   "source": [
    "g1=df.groupby(\"Pclass\")"
   ]
  },
  {
   "cell_type": "code",
   "execution_count": null,
   "id": "7b2405c4",
   "metadata": {},
   "outputs": [],
   "source": [
    "g1.boxplot()    #whisker defines boundaries\n",
    "\n",
    "                # q2 median values find q1,q3 value\n",
    "                #find interquantile range(iqr) ==(q3-q1)\n",
    "                #1.5*iqr \n",
    "                #lower threshold(Lower Whisker)=q1-(1.5*iqr)\n",
    "                #Upper Whisker =q3+(1.5*iqr)"
   ]
  },
  {
   "cell_type": "code",
   "execution_count": null,
   "id": "e4aedf83",
   "metadata": {},
   "outputs": [],
   "source": [
    "def iqr(data,col):\n",
    "    q1=data[col].quantile(0.25)\n",
    "    q3=data[col].quantile(0.75)\n",
    "    iqr=q3-q1\n",
    "    return iqr,q1,q3"
   ]
  },
  {
   "cell_type": "code",
   "execution_count": null,
   "id": "476ba37f",
   "metadata": {},
   "outputs": [],
   "source": [
    "iqr,q1,q3=iqr(df,'Fare')\n"
   ]
  },
  {
   "cell_type": "code",
   "execution_count": null,
   "id": "67762b2e",
   "metadata": {},
   "outputs": [],
   "source": [
    "l_whis=q1-1.5*iqr\n",
    "u_whis=q3+1.5*iqr"
   ]
  },
  {
   "cell_type": "code",
   "execution_count": null,
   "id": "997b8e91",
   "metadata": {},
   "outputs": [],
   "source": [
    "df[(df['Fare']>l_whis)& (df['Fare']<u_whis)]\n"
   ]
  },
  {
   "cell_type": "code",
   "execution_count": null,
   "id": "aacd49c7",
   "metadata": {},
   "outputs": [],
   "source": [
    "df\n"
   ]
  }
 ],
 "metadata": {
  "kernelspec": {
   "display_name": "Python 3 (ipykernel)",
   "language": "python",
   "name": "python3"
  },
  "language_info": {
   "codemirror_mode": {
    "name": "ipython",
    "version": 3
   },
   "file_extension": ".py",
   "mimetype": "text/x-python",
   "name": "python",
   "nbconvert_exporter": "python",
   "pygments_lexer": "ipython3",
   "version": "3.9.13"
  }
 },
 "nbformat": 4,
 "nbformat_minor": 5
}
