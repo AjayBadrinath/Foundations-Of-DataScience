{
 "cells": [
  {
   "cell_type": "code",
   "execution_count": null,
   "id": "eca5ade2",
   "metadata": {},
   "outputs": [],
   "source": [
    "import sys\n",
    "#!{sys.executable} -m pip install summarytools\n",
    "#!{sys.executable} -m pip install sketch\n",
    "#pip install deepchecks -U --user\n",
    "!{sys.executable}  -m pip install deepchecks "
   ]
  },
  {
   "cell_type": "code",
   "execution_count": null,
   "id": "3e534c67",
   "metadata": {},
   "outputs": [],
   "source": [
    "from summarytools import dfSummary"
   ]
  },
  {
   "cell_type": "code",
   "execution_count": 367,
   "id": "42f6fc05",
   "metadata": {},
   "outputs": [],
   "source": [
    "import seaborn as sns\n",
    "import numpy as np\n",
    "import pandas as pd"
   ]
  },
  {
   "cell_type": "code",
   "execution_count": null,
   "id": "2d11fe3a",
   "metadata": {},
   "outputs": [],
   "source": [
    "titanic=sns.load_dataset('titanic')"
   ]
  },
  {
   "cell_type": "code",
   "execution_count": null,
   "id": "77fd4d8e",
   "metadata": {},
   "outputs": [],
   "source": [
    "dfSummary(titanic)"
   ]
  },
  {
   "cell_type": "markdown",
   "id": "fde7a56b",
   "metadata": {},
   "source": [
    "### Playing with Numpy "
   ]
  },
  {
   "cell_type": "code",
   "execution_count": 368,
   "id": "beff0c18",
   "metadata": {},
   "outputs": [],
   "source": [
    "#create a len 10 int arr filled with 0\n",
    "k=np.zeros(10,int).reshape(5,2)\n",
    "#create 3x5 float arr\n",
    "k1=np.ones((3,5),float)\n",
    "#create 3x5 array fill with 3.14\n",
    "k2=np.ones((3,5),float)*3.14\n",
    "k21=np.full((3,5),3.14)"
   ]
  },
  {
   "cell_type": "code",
   "execution_count": 369,
   "id": "da31187d",
   "metadata": {},
   "outputs": [
    {
     "data": {
      "text/plain": [
       "array([[1., 0., 0.],\n",
       "       [0., 1., 0.],\n",
       "       [0., 0., 1.]])"
      ]
     },
     "execution_count": 369,
     "metadata": {},
     "output_type": "execute_result"
    }
   ],
   "source": [
    "#create sequence in numpy\n",
    "\n",
    "l=np.arange(2,10,2)\n",
    "#create a evenly spaced seq \n",
    "np.linspace(1,5,6)\n",
    "#create 3x3 matrix of randomly dist values\n",
    "np.random.random((3,3))\n",
    "#create 4x2 mat with normally dist rand val \n",
    "np.random.normal(0,1,(4,2))\n",
    "#random ints in intervals\n",
    "\n",
    "np.random.randint(0,10,(3,3))\n",
    "np.eye(3)"
   ]
  },
  {
   "cell_type": "code",
   "execution_count": 370,
   "id": "0ec85f12",
   "metadata": {},
   "outputs": [],
   "source": [
    "np.random.seed(0)\n",
    "x1=np.random.randint(10,30,6)\n",
    "x2=np.random.randint(10,30,(3,4))\n",
    "x3=np.random.randint(10,30,(3,4,5))\n"
   ]
  },
  {
   "cell_type": "code",
   "execution_count": 371,
   "id": "9f146223",
   "metadata": {},
   "outputs": [
    {
     "data": {
      "text/plain": [
       "array([[19, 29, 28, 14],\n",
       "       [16, 22, 11, 16],\n",
       "       [17, 24, 27, 15]])"
      ]
     },
     "execution_count": 371,
     "metadata": {},
     "output_type": "execute_result"
    }
   ],
   "source": [
    "x2"
   ]
  },
  {
   "cell_type": "code",
   "execution_count": 372,
   "id": "6b5397ee",
   "metadata": {},
   "outputs": [
    {
     "data": {
      "text/plain": [
       "array([[16, 22, 11, 16]])"
      ]
     },
     "execution_count": 372,
     "metadata": {},
     "output_type": "execute_result"
    }
   ],
   "source": [
    "x2[0][0] \n",
    "x2[0,0]\n",
    "x3[0,2:3]\n",
    "x2[0,1::2]\n",
    "x2[1::2]"
   ]
  },
  {
   "cell_type": "code",
   "execution_count": 373,
   "id": "cbef5d6e",
   "metadata": {},
   "outputs": [
    {
     "data": {
      "text/plain": [
       "array([28, 29, 19])"
      ]
     },
     "execution_count": 373,
     "metadata": {},
     "output_type": "execute_result"
    }
   ],
   "source": [
    "x2[0][2::-1]\n"
   ]
  },
  {
   "cell_type": "code",
   "execution_count": 374,
   "id": "e6b74b87",
   "metadata": {},
   "outputs": [
    {
     "data": {
      "text/plain": [
       "array([[  19, 5578,   28,   14],\n",
       "       [  16,   22,   11,   16],\n",
       "       [  17,   24,   27,   15]])"
      ]
     },
     "execution_count": 374,
     "metadata": {},
     "output_type": "execute_result"
    }
   ],
   "source": [
    "#Array slices return views rather than copies \n",
    "#ie views can modify the original array\n",
    "k=x2[0,1::2]\n",
    "k[0]=5578\n",
    "x2"
   ]
  },
  {
   "cell_type": "code",
   "execution_count": 375,
   "id": "60b1996c",
   "metadata": {},
   "outputs": [
    {
     "data": {
      "text/plain": [
       "array([[  19, 5578,   28,   14],\n",
       "       [  16,   22,   11,   16],\n",
       "       [  17,   24,   27,   15]])"
      ]
     },
     "execution_count": 375,
     "metadata": {},
     "output_type": "execute_result"
    }
   ],
   "source": [
    "#create copies of arrays\n",
    "k=x2[0,::-1].copy()\n",
    "k[0]=23\n",
    "x2"
   ]
  },
  {
   "cell_type": "code",
   "execution_count": 376,
   "id": "a4b3606c",
   "metadata": {},
   "outputs": [
    {
     "data": {
      "text/plain": [
       "array([[  19, 5578,   28,   14],\n",
       "       [  16,   22,   11,   16],\n",
       "       [  17,   24,   27,   15]])"
      ]
     },
     "execution_count": 376,
     "metadata": {},
     "output_type": "execute_result"
    }
   ],
   "source": [
    "x2[np.newaxis:]"
   ]
  },
  {
   "cell_type": "code",
   "execution_count": 377,
   "id": "8812973d",
   "metadata": {},
   "outputs": [
    {
     "data": {
      "text/plain": [
       "array([[  19, 5578,   28,   14],\n",
       "       [  16,   22,   11,   16],\n",
       "       [  23,   28, 5578,   19]])"
      ]
     },
     "execution_count": 377,
     "metadata": {},
     "output_type": "execute_result"
    }
   ],
   "source": [
    "m=x2[0:2]\n",
    "np.vstack([m,k])\n"
   ]
  },
  {
   "cell_type": "code",
   "execution_count": 378,
   "id": "3d249063",
   "metadata": {},
   "outputs": [
    {
     "data": {
      "text/plain": [
       "array([ 2,  3,  4, -5, -6, -7,  8,  9])"
      ]
     },
     "execution_count": 378,
     "metadata": {},
     "output_type": "execute_result"
    }
   ],
   "source": [
    "#boolean indexing\n",
    "c=np.arange(2,10)\n",
    "c[(c>4) & (c<8)]*=-1\n",
    "c"
   ]
  },
  {
   "cell_type": "code",
   "execution_count": 379,
   "id": "3527a473",
   "metadata": {},
   "outputs": [
    {
     "data": {
      "text/plain": [
       "array([  19, 5578,   28,   14,   16,   22,   11,   16,   17,   24,   27,\n",
       "         15])"
      ]
     },
     "execution_count": 379,
     "metadata": {},
     "output_type": "execute_result"
    }
   ],
   "source": [
    "x2.max(axis=0)\n",
    "x2.flatten()"
   ]
  },
  {
   "cell_type": "code",
   "execution_count": 380,
   "id": "86673d55",
   "metadata": {},
   "outputs": [
    {
     "data": {
      "text/plain": [
       "array([[15, 52, 78],\n",
       "       [20, 58, 99],\n",
       "       [13, 23, 79]])"
      ]
     },
     "execution_count": 380,
     "metadata": {},
     "output_type": "execute_result"
    }
   ],
   "source": [
    "np.sum(x2)\n",
    "np.sort(np.random.randint(0,100,(3,3)),axis=1)  #sort along row or column"
   ]
  },
  {
   "cell_type": "code",
   "execution_count": 381,
   "id": "8578c93b",
   "metadata": {},
   "outputs": [
    {
     "data": {
      "text/plain": [
       "array([[  14,   19,   28, 5578],\n",
       "       [  11,   16,   16,   22],\n",
       "       [  15,   17,   24,   27]])"
      ]
     },
     "execution_count": 381,
     "metadata": {},
     "output_type": "execute_result"
    }
   ],
   "source": [
    "np.partition(x2,3,axis=1)"
   ]
  },
  {
   "cell_type": "code",
   "execution_count": 382,
   "id": "572955d3",
   "metadata": {},
   "outputs": [
    {
     "data": {
      "text/plain": [
       "array([19, 22, 27])"
      ]
     },
     "execution_count": 382,
     "metadata": {},
     "output_type": "execute_result"
    }
   ],
   "source": [
    "x2.diagonal()"
   ]
  },
  {
   "cell_type": "markdown",
   "id": "04435fa3",
   "metadata": {},
   "source": [
    "#### Playing  with pandas"
   ]
  },
  {
   "cell_type": "code",
   "execution_count": 383,
   "id": "fa609446",
   "metadata": {},
   "outputs": [
    {
     "data": {
      "text/plain": [
       "a    5\n",
       "b    5\n",
       "c    0\n",
       "dtype: int32"
      ]
     },
     "execution_count": 383,
     "metadata": {},
     "output_type": "execute_result"
    }
   ],
   "source": [
    "dt=pd.Series(np.random.randint(0,10,3),index=['a','b','c'])\n",
    "dt"
   ]
  },
  {
   "cell_type": "code",
   "execution_count": 384,
   "id": "de0c92fd",
   "metadata": {},
   "outputs": [
    {
     "data": {
      "text/plain": [
       "5"
      ]
     },
     "execution_count": 384,
     "metadata": {},
     "output_type": "execute_result"
    }
   ],
   "source": [
    "dt['b']"
   ]
  },
  {
   "cell_type": "code",
   "execution_count": 385,
   "id": "e0dae4e3",
   "metadata": {},
   "outputs": [
    {
     "data": {
      "text/plain": [
       "a1    1\n",
       "a2    2\n",
       "dtype: int64"
      ]
     },
     "execution_count": 385,
     "metadata": {},
     "output_type": "execute_result"
    }
   ],
   "source": [
    "dictionary={'a1':1,'a2':2,'a3':23}\n",
    "dp=pd.Series(dictionary)\n",
    "dp['a1':'a2']"
   ]
  },
  {
   "cell_type": "code",
   "execution_count": 386,
   "id": "28ab89a9",
   "metadata": {},
   "outputs": [
    {
     "data": {
      "text/plain": [
       "a1    1\n",
       "dtype: int64"
      ]
     },
     "execution_count": 386,
     "metadata": {},
     "output_type": "execute_result"
    }
   ],
   "source": [
    "pd.Series(dictionary,index=['a1']) #choose specific indices"
   ]
  },
  {
   "cell_type": "code",
   "execution_count": 387,
   "id": "a505c145",
   "metadata": {},
   "outputs": [
    {
     "data": {
      "text/html": [
       "<div>\n",
       "<style scoped>\n",
       "    .dataframe tbody tr th:only-of-type {\n",
       "        vertical-align: middle;\n",
       "    }\n",
       "\n",
       "    .dataframe tbody tr th {\n",
       "        vertical-align: top;\n",
       "    }\n",
       "\n",
       "    .dataframe thead th {\n",
       "        text-align: right;\n",
       "    }\n",
       "</style>\n",
       "<table border=\"1\" class=\"dataframe\">\n",
       "  <thead>\n",
       "    <tr style=\"text-align: right;\">\n",
       "      <th></th>\n",
       "      <th>val</th>\n",
       "    </tr>\n",
       "  </thead>\n",
       "  <tbody>\n",
       "    <tr>\n",
       "      <th>Chennai</th>\n",
       "      <td>223</td>\n",
       "    </tr>\n",
       "    <tr>\n",
       "      <th>Trichy</th>\n",
       "      <td>34</td>\n",
       "    </tr>\n",
       "    <tr>\n",
       "      <th>Madurai</th>\n",
       "      <td>324</td>\n",
       "    </tr>\n",
       "    <tr>\n",
       "      <th>Delhi</th>\n",
       "      <td>2324</td>\n",
       "    </tr>\n",
       "    <tr>\n",
       "      <th>Mumbai</th>\n",
       "      <td>3232</td>\n",
       "    </tr>\n",
       "  </tbody>\n",
       "</table>\n",
       "</div>"
      ],
      "text/plain": [
       "          val\n",
       "Chennai   223\n",
       "Trichy     34\n",
       "Madurai   324\n",
       "Delhi    2324\n",
       "Mumbai   3232"
      ]
     },
     "execution_count": 387,
     "metadata": {},
     "output_type": "execute_result"
    }
   ],
   "source": [
    "tstdict={'Chennai':223,'Trichy':34,'Madurai':324,'Delhi':2324,'Mumbai':3232}\n",
    "ar=pd.Series(tstdict)\n",
    "df=pd.DataFrame({'val':ar})\n",
    "df"
   ]
  },
  {
   "cell_type": "code",
   "execution_count": 388,
   "id": "18b1a298",
   "metadata": {},
   "outputs": [
    {
     "data": {
      "text/plain": [
       "Index(['Chennai', 'Trichy', 'Madurai', 'Delhi', 'Mumbai'], dtype='object')"
      ]
     },
     "execution_count": 388,
     "metadata": {},
     "output_type": "execute_result"
    }
   ],
   "source": [
    "df.index"
   ]
  },
  {
   "cell_type": "code",
   "execution_count": 389,
   "id": "c4c57e7b",
   "metadata": {},
   "outputs": [
    {
     "data": {
      "text/html": [
       "<div>\n",
       "<style scoped>\n",
       "    .dataframe tbody tr th:only-of-type {\n",
       "        vertical-align: middle;\n",
       "    }\n",
       "\n",
       "    .dataframe tbody tr th {\n",
       "        vertical-align: top;\n",
       "    }\n",
       "\n",
       "    .dataframe thead th {\n",
       "        text-align: right;\n",
       "    }\n",
       "</style>\n",
       "<table border=\"1\" class=\"dataframe\">\n",
       "  <thead>\n",
       "    <tr style=\"text-align: right;\">\n",
       "      <th></th>\n",
       "      <th>val</th>\n",
       "    </tr>\n",
       "  </thead>\n",
       "  <tbody>\n",
       "    <tr>\n",
       "      <th>Chennai</th>\n",
       "      <td>223</td>\n",
       "    </tr>\n",
       "    <tr>\n",
       "      <th>Trichy</th>\n",
       "      <td>34</td>\n",
       "    </tr>\n",
       "    <tr>\n",
       "      <th>Madurai</th>\n",
       "      <td>324</td>\n",
       "    </tr>\n",
       "    <tr>\n",
       "      <th>Delhi</th>\n",
       "      <td>2324</td>\n",
       "    </tr>\n",
       "    <tr>\n",
       "      <th>Mumbai</th>\n",
       "      <td>3232</td>\n",
       "    </tr>\n",
       "  </tbody>\n",
       "</table>\n",
       "</div>"
      ],
      "text/plain": [
       "          val\n",
       "Chennai   223\n",
       "Trichy     34\n",
       "Madurai   324\n",
       "Delhi    2324\n",
       "Mumbai   3232"
      ]
     },
     "execution_count": 389,
     "metadata": {},
     "output_type": "execute_result"
    }
   ],
   "source": [
    "pd.DataFrame(ar,columns=['val'])"
   ]
  },
  {
   "cell_type": "code",
   "execution_count": 390,
   "id": "60213d6a",
   "metadata": {},
   "outputs": [
    {
     "data": {
      "text/html": [
       "<div>\n",
       "<style scoped>\n",
       "    .dataframe tbody tr th:only-of-type {\n",
       "        vertical-align: middle;\n",
       "    }\n",
       "\n",
       "    .dataframe tbody tr th {\n",
       "        vertical-align: top;\n",
       "    }\n",
       "\n",
       "    .dataframe thead th {\n",
       "        text-align: right;\n",
       "    }\n",
       "</style>\n",
       "<table border=\"1\" class=\"dataframe\">\n",
       "  <thead>\n",
       "    <tr style=\"text-align: right;\">\n",
       "      <th></th>\n",
       "      <th>Chennai</th>\n",
       "      <th>Trichy</th>\n",
       "      <th>Madurai</th>\n",
       "      <th>Delhi</th>\n",
       "      <th>Mumbai</th>\n",
       "      <th>a1</th>\n",
       "      <th>a2</th>\n",
       "      <th>a3</th>\n",
       "    </tr>\n",
       "  </thead>\n",
       "  <tbody>\n",
       "    <tr>\n",
       "      <th>0</th>\n",
       "      <td>223.0</td>\n",
       "      <td>34.0</td>\n",
       "      <td>324.0</td>\n",
       "      <td>2324.0</td>\n",
       "      <td>3232.0</td>\n",
       "      <td>NaN</td>\n",
       "      <td>NaN</td>\n",
       "      <td>NaN</td>\n",
       "    </tr>\n",
       "    <tr>\n",
       "      <th>1</th>\n",
       "      <td>NaN</td>\n",
       "      <td>NaN</td>\n",
       "      <td>NaN</td>\n",
       "      <td>NaN</td>\n",
       "      <td>NaN</td>\n",
       "      <td>1.0</td>\n",
       "      <td>2.0</td>\n",
       "      <td>23.0</td>\n",
       "    </tr>\n",
       "  </tbody>\n",
       "</table>\n",
       "</div>"
      ],
      "text/plain": [
       "   Chennai  Trichy  Madurai   Delhi  Mumbai   a1   a2    a3\n",
       "0    223.0    34.0    324.0  2324.0  3232.0  NaN  NaN   NaN\n",
       "1      NaN     NaN      NaN     NaN     NaN  1.0  2.0  23.0"
      ]
     },
     "execution_count": 390,
     "metadata": {},
     "output_type": "execute_result"
    }
   ],
   "source": [
    "pd.DataFrame([tstdict,dictionary])"
   ]
  },
  {
   "cell_type": "code",
   "execution_count": 391,
   "id": "9c772839",
   "metadata": {},
   "outputs": [
    {
     "data": {
      "text/plain": [
       "Index(['val'], dtype='object')"
      ]
     },
     "execution_count": 391,
     "metadata": {},
     "output_type": "execute_result"
    }
   ],
   "source": [
    "df.keys()"
   ]
  },
  {
   "cell_type": "code",
   "execution_count": null,
   "id": "b1cecdea",
   "metadata": {},
   "outputs": [],
   "source": [
    "from sklearn.datasets import load_digits\n",
    "digits=load_digits(n_class=10)\n",
    "import matplotlib.pyplot as plt\n",
    "f,x=plt.subplots(8,8,figsize=(6,6))\n",
    "for i,a in enumerate(x.flat):\n",
    "    a.imshow(digits.images[i],cmap='binary')\n",
    "    a.set(xticks=[],yticks=[])"
   ]
  },
  {
   "cell_type": "code",
   "execution_count": 392,
   "id": "d736bc54",
   "metadata": {},
   "outputs": [
    {
     "data": {
      "text/html": [
       "<div>\n",
       "<style scoped>\n",
       "    .dataframe tbody tr th:only-of-type {\n",
       "        vertical-align: middle;\n",
       "    }\n",
       "\n",
       "    .dataframe tbody tr th {\n",
       "        vertical-align: top;\n",
       "    }\n",
       "\n",
       "    .dataframe thead th {\n",
       "        text-align: right;\n",
       "    }\n",
       "</style>\n",
       "<table border=\"1\" class=\"dataframe\">\n",
       "  <thead>\n",
       "    <tr style=\"text-align: right;\">\n",
       "      <th></th>\n",
       "      <th>val</th>\n",
       "    </tr>\n",
       "  </thead>\n",
       "  <tbody>\n",
       "    <tr>\n",
       "      <th>Chennai</th>\n",
       "      <td>223</td>\n",
       "    </tr>\n",
       "    <tr>\n",
       "      <th>Madurai</th>\n",
       "      <td>324</td>\n",
       "    </tr>\n",
       "  </tbody>\n",
       "</table>\n",
       "</div>"
      ],
      "text/plain": [
       "         val\n",
       "Chennai  223\n",
       "Madurai  324"
      ]
     },
     "execution_count": 392,
     "metadata": {},
     "output_type": "execute_result"
    }
   ],
   "source": [
    "df[(df['val']>200) & (df['val']<2000)]"
   ]
  },
  {
   "cell_type": "code",
   "execution_count": 393,
   "id": "cf66b5ad",
   "metadata": {},
   "outputs": [
    {
     "name": "stderr",
     "output_type": "stream",
     "text": [
      "C:\\Users\\Admin\\AppData\\Local\\Temp\\ipykernel_7060\\2013225798.py:5: FutureWarning:\n",
      "\n",
      "The frame.append method is deprecated and will be removed from pandas in a future version. Use pandas.concat instead.\n",
      "\n"
     ]
    },
    {
     "data": {
      "text/html": [
       "<div>\n",
       "<style scoped>\n",
       "    .dataframe tbody tr th:only-of-type {\n",
       "        vertical-align: middle;\n",
       "    }\n",
       "\n",
       "    .dataframe tbody tr th {\n",
       "        vertical-align: top;\n",
       "    }\n",
       "\n",
       "    .dataframe thead th {\n",
       "        text-align: right;\n",
       "    }\n",
       "</style>\n",
       "<table border=\"1\" class=\"dataframe\">\n",
       "  <thead>\n",
       "    <tr style=\"text-align: right;\">\n",
       "      <th></th>\n",
       "      <th>sample</th>\n",
       "      <th>drink</th>\n",
       "    </tr>\n",
       "  </thead>\n",
       "  <tbody>\n",
       "    <tr>\n",
       "      <th>0</th>\n",
       "      <td>a</td>\n",
       "      <td>milk</td>\n",
       "    </tr>\n",
       "    <tr>\n",
       "      <th>1</th>\n",
       "      <td>b</td>\n",
       "      <td>coffee</td>\n",
       "    </tr>\n",
       "    <tr>\n",
       "      <th>2</th>\n",
       "      <td>d</td>\n",
       "      <td>tea</td>\n",
       "    </tr>\n",
       "    <tr>\n",
       "      <th>3</th>\n",
       "      <td>a</td>\n",
       "      <td>milk</td>\n",
       "    </tr>\n",
       "    <tr>\n",
       "      <th>4</th>\n",
       "      <td>b</td>\n",
       "      <td>coffee</td>\n",
       "    </tr>\n",
       "    <tr>\n",
       "      <th>5</th>\n",
       "      <td>d</td>\n",
       "      <td>tea</td>\n",
       "    </tr>\n",
       "  </tbody>\n",
       "</table>\n",
       "</div>"
      ],
      "text/plain": [
       "  sample   drink\n",
       "0      a    milk\n",
       "1      b  coffee\n",
       "2      d     tea\n",
       "3      a    milk\n",
       "4      b  coffee\n",
       "5      d     tea"
      ]
     },
     "execution_count": 393,
     "metadata": {},
     "output_type": "execute_result"
    }
   ],
   "source": [
    "d1={\"name\":['a','b','c'],\"food\":['apple','orange','banana']}\n",
    "d2={\"sample\":['a','b','d'],\"drink\":[\"milk\",\"coffee\",\"tea\"]}\n",
    "df1=pd.DataFrame(d1)\n",
    "df2=pd.DataFrame(d2)\n",
    "df2.append(df2,ignore_index=True)"
   ]
  },
  {
   "cell_type": "code",
   "execution_count": 394,
   "id": "81607f9d",
   "metadata": {},
   "outputs": [
    {
     "data": {
      "text/html": [
       "<div>\n",
       "<style scoped>\n",
       "    .dataframe tbody tr th:only-of-type {\n",
       "        vertical-align: middle;\n",
       "    }\n",
       "\n",
       "    .dataframe tbody tr th {\n",
       "        vertical-align: top;\n",
       "    }\n",
       "\n",
       "    .dataframe thead th {\n",
       "        text-align: right;\n",
       "    }\n",
       "</style>\n",
       "<table border=\"1\" class=\"dataframe\">\n",
       "  <thead>\n",
       "    <tr style=\"text-align: right;\">\n",
       "      <th></th>\n",
       "      <th>name</th>\n",
       "      <th>food</th>\n",
       "      <th>sample</th>\n",
       "      <th>drink</th>\n",
       "    </tr>\n",
       "  </thead>\n",
       "  <tbody>\n",
       "    <tr>\n",
       "      <th>0</th>\n",
       "      <td>a</td>\n",
       "      <td>apple</td>\n",
       "      <td>a</td>\n",
       "      <td>milk</td>\n",
       "    </tr>\n",
       "    <tr>\n",
       "      <th>1</th>\n",
       "      <td>b</td>\n",
       "      <td>orange</td>\n",
       "      <td>b</td>\n",
       "      <td>coffee</td>\n",
       "    </tr>\n",
       "  </tbody>\n",
       "</table>\n",
       "</div>"
      ],
      "text/plain": [
       "  name    food sample   drink\n",
       "0    a   apple      a    milk\n",
       "1    b  orange      b  coffee"
      ]
     },
     "execution_count": 394,
     "metadata": {},
     "output_type": "execute_result"
    }
   ],
   "source": [
    "pd.merge(left=df1,right=df2,how='inner',left_on=\"name\",right_on='sample')"
   ]
  },
  {
   "cell_type": "code",
   "execution_count": 395,
   "id": "24c68e0d",
   "metadata": {},
   "outputs": [
    {
     "data": {
      "text/html": [
       "<div>\n",
       "<style scoped>\n",
       "    .dataframe tbody tr th:only-of-type {\n",
       "        vertical-align: middle;\n",
       "    }\n",
       "\n",
       "    .dataframe tbody tr th {\n",
       "        vertical-align: top;\n",
       "    }\n",
       "\n",
       "    .dataframe thead th {\n",
       "        text-align: right;\n",
       "    }\n",
       "</style>\n",
       "<table border=\"1\" class=\"dataframe\">\n",
       "  <thead>\n",
       "    <tr style=\"text-align: right;\">\n",
       "      <th></th>\n",
       "      <th>val</th>\n",
       "    </tr>\n",
       "  </thead>\n",
       "  <tbody>\n",
       "    <tr>\n",
       "      <th>Chennai</th>\n",
       "      <td>223</td>\n",
       "    </tr>\n",
       "    <tr>\n",
       "      <th>Madurai</th>\n",
       "      <td>324</td>\n",
       "    </tr>\n",
       "    <tr>\n",
       "      <th>Delhi</th>\n",
       "      <td>2324</td>\n",
       "    </tr>\n",
       "    <tr>\n",
       "      <th>Mumbai</th>\n",
       "      <td>3232</td>\n",
       "    </tr>\n",
       "  </tbody>\n",
       "</table>\n",
       "</div>"
      ],
      "text/plain": [
       "          val\n",
       "Chennai   223\n",
       "Madurai   324\n",
       "Delhi    2324\n",
       "Mumbai   3232"
      ]
     },
     "execution_count": 395,
     "metadata": {},
     "output_type": "execute_result"
    }
   ],
   "source": [
    "df.loc[df.val>200,['val']] #fancy indexing"
   ]
  },
  {
   "cell_type": "code",
   "execution_count": 396,
   "id": "2120cef3",
   "metadata": {},
   "outputs": [],
   "source": [
    "dat={'a':1,'b':2,'c':np.nan,'d':3}"
   ]
  },
  {
   "cell_type": "code",
   "execution_count": 397,
   "id": "d28ba55f",
   "metadata": {},
   "outputs": [
    {
     "data": {
      "text/html": [
       "<div>\n",
       "<style scoped>\n",
       "    .dataframe tbody tr th:only-of-type {\n",
       "        vertical-align: middle;\n",
       "    }\n",
       "\n",
       "    .dataframe tbody tr th {\n",
       "        vertical-align: top;\n",
       "    }\n",
       "\n",
       "    .dataframe thead th {\n",
       "        text-align: right;\n",
       "    }\n",
       "</style>\n",
       "<table border=\"1\" class=\"dataframe\">\n",
       "  <thead>\n",
       "    <tr style=\"text-align: right;\">\n",
       "      <th></th>\n",
       "      <th>0</th>\n",
       "      <th>dd</th>\n",
       "    </tr>\n",
       "  </thead>\n",
       "  <tbody>\n",
       "    <tr>\n",
       "      <th>a</th>\n",
       "      <td>1.0</td>\n",
       "      <td>1</td>\n",
       "    </tr>\n",
       "    <tr>\n",
       "      <th>b</th>\n",
       "      <td>2.0</td>\n",
       "      <td>1</td>\n",
       "    </tr>\n",
       "    <tr>\n",
       "      <th>c</th>\n",
       "      <td>NaN</td>\n",
       "      <td>1</td>\n",
       "    </tr>\n",
       "    <tr>\n",
       "      <th>d</th>\n",
       "      <td>3.0</td>\n",
       "      <td>1</td>\n",
       "    </tr>\n",
       "  </tbody>\n",
       "</table>\n",
       "</div>"
      ],
      "text/plain": [
       "     0  dd\n",
       "a  1.0   1\n",
       "b  2.0   1\n",
       "c  NaN   1\n",
       "d  3.0   1"
      ]
     },
     "execution_count": 397,
     "metadata": {},
     "output_type": "execute_result"
    }
   ],
   "source": [
    "sp=pd.Series(dat)\n",
    "\n",
    "ss=pd.DataFrame(sp)\n",
    "ss.fillna(method='ffill')\n",
    "ss['dd']=1\n",
    "ss"
   ]
  },
  {
   "cell_type": "markdown",
   "id": "36ee37f8",
   "metadata": {},
   "source": [
    "### Data Imputation"
   ]
  },
  {
   "cell_type": "code",
   "execution_count": 398,
   "id": "d6d3ba67",
   "metadata": {},
   "outputs": [],
   "source": [
    "from sklearn.impute  import SimpleImputer as si\n",
    "from sklearn.impute import KNNImputer as knn"
   ]
  },
  {
   "cell_type": "code",
   "execution_count": 399,
   "id": "dd3b767b",
   "metadata": {},
   "outputs": [
    {
     "name": "stderr",
     "output_type": "stream",
     "text": [
      "E:\\anaconda\\lib\\site-packages\\sklearn\\impute\\_base.py:49: FutureWarning:\n",
      "\n",
      "Unlike other reduction functions (e.g. `skew`, `kurtosis`), the default behavior of `mode` typically preserves the axis it acts along. In SciPy 1.11.0, this behavior will change: the default value of `keepdims` will become False, the `axis` over which the statistic is taken will be eliminated, and the value None will no longer be accepted. Set `keepdims` to True or False to avoid this warning.\n",
      "\n"
     ]
    },
    {
     "data": {
      "text/plain": [
       "array([[1., 2., 3.],\n",
       "       [3., 2., 3.],\n",
       "       [1., 3., 5.]])"
      ]
     },
     "execution_count": 399,
     "metadata": {},
     "output_type": "execute_result"
    }
   ],
   "source": [
    "imp=si(missing_values=np.nan,strategy='most_frequent')\n",
    "x=np.array([[1,2,np.nan],[3,np.nan,3],[np.nan,3,5]])\n",
    "\n",
    "x=x.reshape((3,3))\n",
    "imp.fit_transform(x)"
   ]
  },
  {
   "cell_type": "code",
   "execution_count": 400,
   "id": "8236ccbc",
   "metadata": {},
   "outputs": [],
   "source": [
    "X=[[3,4,5,6],[4,6,8,4],[np.nan,4,np.nan,6],[3,np.nan,4,np.nan]]"
   ]
  },
  {
   "cell_type": "code",
   "execution_count": 401,
   "id": "8a27a0da",
   "metadata": {},
   "outputs": [],
   "source": [
    "ii=knn(n_neighbors=2)\n",
    "x=ii.fit_transform(X)"
   ]
  },
  {
   "cell_type": "markdown",
   "id": "3eab75a3",
   "metadata": {},
   "source": [
    "#### Feature Scaling  \n"
   ]
  },
  {
   "cell_type": "code",
   "execution_count": 402,
   "id": "7fd45a72",
   "metadata": {},
   "outputs": [],
   "source": [
    "from sklearn.preprocessing import MaxAbsScaler,MinMaxScaler,StandardScaler"
   ]
  },
  {
   "cell_type": "code",
   "execution_count": 403,
   "id": "464be363",
   "metadata": {},
   "outputs": [
    {
     "data": {
      "text/plain": [
       "array([[0.75      , 0.66666667, 0.625     , 1.        ],\n",
       "       [1.        , 1.        , 1.        , 0.66666667],\n",
       "       [0.875     , 0.66666667, 0.8125    , 1.        ],\n",
       "       [0.75      , 0.83333333, 0.5       , 0.83333333]])"
      ]
     },
     "execution_count": 403,
     "metadata": {},
     "output_type": "execute_result"
    }
   ],
   "source": [
    "X1=MaxAbsScaler().fit_transform(x)\n",
    "X1"
   ]
  },
  {
   "cell_type": "code",
   "execution_count": 404,
   "id": "6b35540f",
   "metadata": {},
   "outputs": [
    {
     "data": {
      "text/plain": [
       "array([[0.   , 0.   , 0.25 , 1.   ],\n",
       "       [1.   , 1.   , 1.   , 0.   ],\n",
       "       [0.5  , 0.   , 0.625, 1.   ],\n",
       "       [0.   , 0.5  , 0.   , 0.5  ]])"
      ]
     },
     "execution_count": 404,
     "metadata": {},
     "output_type": "execute_result"
    }
   ],
   "source": [
    "x2=MinMaxScaler().fit_transform(x)\n",
    "\n",
    "x2"
   ]
  },
  {
   "cell_type": "code",
   "execution_count": 405,
   "id": "0160e20b",
   "metadata": {},
   "outputs": [
    {
     "data": {
      "text/plain": [
       "array([[-0.90453403, -0.90453403, -0.57735027,  0.90453403],\n",
       "       [ 1.50755672,  1.50755672,  1.40213637, -1.50755672],\n",
       "       [ 0.30151134, -0.90453403,  0.41239305,  0.90453403],\n",
       "       [-0.90453403,  0.30151134, -1.23717915, -0.30151134]])"
      ]
     },
     "execution_count": 405,
     "metadata": {},
     "output_type": "execute_result"
    }
   ],
   "source": [
    "#standardization\n",
    "StandardScaler().fit_transform(X1)"
   ]
  },
  {
   "cell_type": "code",
   "execution_count": null,
   "id": "ab95095a",
   "metadata": {},
   "outputs": [],
   "source": []
  }
 ],
 "metadata": {
  "kernelspec": {
   "display_name": "Python 3 (ipykernel)",
   "language": "python",
   "name": "python3"
  },
  "language_info": {
   "codemirror_mode": {
    "name": "ipython",
    "version": 3
   },
   "file_extension": ".py",
   "mimetype": "text/x-python",
   "name": "python",
   "nbconvert_exporter": "python",
   "pygments_lexer": "ipython3",
   "version": "3.9.13"
  }
 },
 "nbformat": 4,
 "nbformat_minor": 5
}
