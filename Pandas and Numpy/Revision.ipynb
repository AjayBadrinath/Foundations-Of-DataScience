{
 "cells": [
  {
   "cell_type": "code",
   "execution_count": 40,
   "id": "04b3ebe4",
   "metadata": {
    "collapsed": true
   },
   "outputs": [
    {
     "name": "stdout",
     "output_type": "stream",
     "text": [
      "Collecting deepchecks"
     ]
    },
    {
     "name": "stderr",
     "output_type": "stream",
     "text": [
      "ERROR: pip's dependency resolver does not currently take into account all the packages that are installed. This behaviour is the source of the following dependency conflicts.\n",
      "manimgl 1.4.1 requires colour, which is not installed.\n",
      "manimgl 1.4.1 requires mapbox-earcut, which is not installed.\n",
      "manimgl 1.4.1 requires moderngl, which is not installed.\n",
      "manimgl 1.4.1 requires moderngl-window, which is not installed.\n",
      "manimgl 1.4.1 requires pydub, which is not installed.\n",
      "manimgl 1.4.1 requires rich, which is not installed.\n",
      "manimgl 1.4.1 requires screeninfo, which is not installed.\n",
      "manimgl 1.4.1 requires skia-pathops, which is not installed.\n",
      "spyder 5.2.2 requires pyqt5<5.13, which is not installed.\n",
      "spyder 5.2.2 requires pyqtwebengine<5.13, which is not installed.\n",
      "WARNING: You are using pip version 22.0.3; however, version 23.0 is available.\n",
      "You should consider upgrading via the 'E:\\anaconda\\python.exe -m pip install --upgrade pip' command.\n"
     ]
    },
    {
     "name": "stdout",
     "output_type": "stream",
     "text": [
      "\n",
      "  Using cached deepchecks-0.11.1-py3-none-any.whl (7.6 MB)\n",
      "Requirement already satisfied: typing-extensions>=4.0.0 in c:\\users\\admin\\appdata\\roaming\\python\\python39\\site-packages (from deepchecks) (4.0.1)\n",
      "Requirement already satisfied: tqdm>=4.62.3 in e:\\anaconda\\lib\\site-packages (from deepchecks) (4.64.1)\n",
      "Requirement already satisfied: pandas>=1.1.5 in c:\\users\\admin\\appdata\\roaming\\python\\python39\\site-packages (from deepchecks) (1.4.3)\n",
      "Requirement already satisfied: scipy>=1.4.1 in e:\\anaconda\\lib\\site-packages (from deepchecks) (1.9.1)\n",
      "Requirement already satisfied: matplotlib>=3.3.4 in e:\\anaconda\\lib\\site-packages (from deepchecks) (3.5.2)\n",
      "Collecting beautifulsoup4>=4.11.1\n",
      "  Using cached beautifulsoup4-4.11.2-py3-none-any.whl (129 kB)\n",
      "Requirement already satisfied: numpy>=1.19 in e:\\anaconda\\lib\\site-packages (from deepchecks) (1.21.5)\n",
      "Requirement already satisfied: ipywidgets<8,>=7.6.5 in e:\\anaconda\\lib\\site-packages (from deepchecks) (7.6.5)\n",
      "Collecting ipython<8,>=7.15.0\n",
      "  Using cached ipython-7.34.0-py3-none-any.whl (793 kB)\n",
      "Requirement already satisfied: plotly>=5.8.0 in c:\\users\\admin\\appdata\\roaming\\python\\python39\\site-packages (from deepchecks) (5.10.0)\n",
      "Collecting PyNomaly>=0.3.3\n",
      "  Using cached PyNomaly-0.3.3-py3-none-any.whl\n",
      "Requirement already satisfied: pyzmq<24.0.0 in c:\\users\\admin\\appdata\\roaming\\python\\python39\\site-packages (from deepchecks) (23.2.1)\n",
      "Requirement already satisfied: ipykernel>=5.3.0 in c:\\users\\admin\\appdata\\roaming\\python\\python39\\site-packages (from deepchecks) (6.17.1)\n",
      "Requirement already satisfied: scikit-learn>=0.23.2 in e:\\anaconda\\lib\\site-packages (from deepchecks) (1.0.2)\n",
      "Collecting statsmodels>=0.13.5\n",
      "  Using cached statsmodels-0.13.5-cp39-cp39-win_amd64.whl (9.2 MB)\n",
      "Collecting jsonpickle>=2\n",
      "  Using cached jsonpickle-3.0.1-py2.py3-none-any.whl (40 kB)\n",
      "Collecting category-encoders>=2.3.0\n",
      "  Using cached category_encoders-2.6.0-py2.py3-none-any.whl (81 kB)\n",
      "Requirement already satisfied: soupsieve>1.2 in c:\\users\\admin\\appdata\\roaming\\python\\python39\\site-packages (from beautifulsoup4>=4.11.1->deepchecks) (2.3.1)\n",
      "Requirement already satisfied: patsy>=0.5.1 in e:\\anaconda\\lib\\site-packages (from category-encoders>=2.3.0->deepchecks) (0.5.2)\n",
      "Requirement already satisfied: nest-asyncio in c:\\users\\admin\\appdata\\roaming\\python\\python39\\site-packages (from ipykernel>=5.3.0->deepchecks) (1.5.6)\n",
      "Requirement already satisfied: matplotlib-inline>=0.1 in c:\\users\\admin\\appdata\\roaming\\python\\python39\\site-packages (from ipykernel>=5.3.0->deepchecks) (0.1.3)\n",
      "Requirement already satisfied: tornado>=6.1 in c:\\users\\admin\\appdata\\roaming\\python\\python39\\site-packages (from ipykernel>=5.3.0->deepchecks) (6.2)\n",
      "Requirement already satisfied: jupyter-client>=6.1.12 in c:\\users\\admin\\appdata\\roaming\\python\\python39\\site-packages (from ipykernel>=5.3.0->deepchecks) (7.4.7)\n",
      "Requirement already satisfied: psutil in c:\\users\\admin\\appdata\\roaming\\python\\python39\\site-packages (from ipykernel>=5.3.0->deepchecks) (5.9.4)\n",
      "Requirement already satisfied: packaging in e:\\anaconda\\lib\\site-packages (from ipykernel>=5.3.0->deepchecks) (21.3)\n",
      "Requirement already satisfied: traitlets>=5.1.0 in c:\\users\\admin\\appdata\\roaming\\python\\python39\\site-packages (from ipykernel>=5.3.0->deepchecks) (5.5.0)\n",
      "Requirement already satisfied: debugpy>=1.0 in c:\\users\\admin\\appdata\\roaming\\python\\python39\\site-packages (from ipykernel>=5.3.0->deepchecks) (1.6.3)\n",
      "Requirement already satisfied: decorator in e:\\anaconda\\lib\\site-packages (from ipython<8,>=7.15.0->deepchecks) (5.1.1)\n",
      "Requirement already satisfied: pygments in e:\\anaconda\\lib\\site-packages (from ipython<8,>=7.15.0->deepchecks) (2.11.2)\n",
      "Requirement already satisfied: backcall in c:\\users\\admin\\appdata\\roaming\\python\\python39\\site-packages (from ipython<8,>=7.15.0->deepchecks) (0.2.0)\n",
      "Requirement already satisfied: prompt-toolkit!=3.0.0,!=3.0.1,<3.1.0,>=2.0.0 in c:\\users\\admin\\appdata\\roaming\\python\\python39\\site-packages (from ipython<8,>=7.15.0->deepchecks) (3.0.26)\n",
      "Requirement already satisfied: colorama in c:\\users\\admin\\appdata\\roaming\\python\\python39\\site-packages (from ipython<8,>=7.15.0->deepchecks) (0.4.4)\n",
      "Requirement already satisfied: jedi>=0.16 in c:\\users\\admin\\appdata\\roaming\\python\\python39\\site-packages (from ipython<8,>=7.15.0->deepchecks) (0.18.1)\n",
      "Requirement already satisfied: setuptools>=18.5 in e:\\anaconda\\lib\\site-packages (from ipython<8,>=7.15.0->deepchecks) (63.4.1)\n",
      "Requirement already satisfied: pickleshare in c:\\users\\admin\\appdata\\roaming\\python\\python39\\site-packages (from ipython<8,>=7.15.0->deepchecks) (0.7.5)\n",
      "Requirement already satisfied: jupyterlab-widgets>=1.0.0 in e:\\anaconda\\lib\\site-packages (from ipywidgets<8,>=7.6.5->deepchecks) (1.0.0)\n",
      "Requirement already satisfied: nbformat>=4.2.0 in c:\\users\\admin\\appdata\\roaming\\python\\python39\\site-packages (from ipywidgets<8,>=7.6.5->deepchecks) (5.7.0)\n",
      "Requirement already satisfied: widgetsnbextension~=3.5.0 in e:\\anaconda\\lib\\site-packages (from ipywidgets<8,>=7.6.5->deepchecks) (3.5.2)\n",
      "Requirement already satisfied: ipython-genutils~=0.2.0 in c:\\users\\admin\\appdata\\roaming\\python\\python39\\site-packages (from ipywidgets<8,>=7.6.5->deepchecks) (0.2.0)\n",
      "Requirement already satisfied: pyparsing>=2.2.1 in e:\\anaconda\\lib\\site-packages (from matplotlib>=3.3.4->deepchecks) (3.0.9)\n",
      "Requirement already satisfied: python-dateutil>=2.7 in e:\\anaconda\\lib\\site-packages (from matplotlib>=3.3.4->deepchecks) (2.8.2)\n",
      "Requirement already satisfied: pillow>=6.2.0 in e:\\anaconda\\lib\\site-packages (from matplotlib>=3.3.4->deepchecks) (9.2.0)\n",
      "Requirement already satisfied: fonttools>=4.22.0 in e:\\anaconda\\lib\\site-packages (from matplotlib>=3.3.4->deepchecks) (4.25.0)\n",
      "Requirement already satisfied: cycler>=0.10 in e:\\anaconda\\lib\\site-packages (from matplotlib>=3.3.4->deepchecks) (0.11.0)\n",
      "Requirement already satisfied: kiwisolver>=1.0.1 in e:\\anaconda\\lib\\site-packages (from matplotlib>=3.3.4->deepchecks) (1.4.2)\n",
      "Requirement already satisfied: pytz>=2020.1 in c:\\users\\admin\\appdata\\roaming\\python\\python39\\site-packages (from pandas>=1.1.5->deepchecks) (2022.2.1)\n",
      "Requirement already satisfied: tenacity>=6.2.0 in c:\\users\\admin\\appdata\\roaming\\python\\python39\\site-packages (from plotly>=5.8.0->deepchecks) (8.0.1)\n",
      "Collecting python-utils\n",
      "  Using cached python_utils-3.5.2-py2.py3-none-any.whl (24 kB)\n",
      "Requirement already satisfied: joblib>=0.11 in e:\\anaconda\\lib\\site-packages (from scikit-learn>=0.23.2->deepchecks) (1.1.0)\n",
      "Requirement already satisfied: threadpoolctl>=2.0.0 in e:\\anaconda\\lib\\site-packages (from scikit-learn>=0.23.2->deepchecks) (2.2.0)\n",
      "Requirement already satisfied: parso<0.9.0,>=0.8.0 in c:\\users\\admin\\appdata\\roaming\\python\\python39\\site-packages (from jedi>=0.16->ipython<8,>=7.15.0->deepchecks) (0.8.3)\n",
      "Requirement already satisfied: jupyter-core>=4.9.2 in c:\\users\\admin\\appdata\\roaming\\python\\python39\\site-packages (from jupyter-client>=6.1.12->ipykernel>=5.3.0->deepchecks) (5.0.0)\n",
      "Requirement already satisfied: entrypoints in c:\\users\\admin\\appdata\\roaming\\python\\python39\\site-packages (from jupyter-client>=6.1.12->ipykernel>=5.3.0->deepchecks) (0.4)\n",
      "Requirement already satisfied: fastjsonschema in c:\\users\\admin\\appdata\\roaming\\python\\python39\\site-packages (from nbformat>=4.2.0->ipywidgets<8,>=7.6.5->deepchecks) (2.16.2)\n",
      "Requirement already satisfied: jsonschema>=2.6 in c:\\users\\admin\\appdata\\roaming\\python\\python39\\site-packages (from nbformat>=4.2.0->ipywidgets<8,>=7.6.5->deepchecks) (4.17.1)\n",
      "Requirement already satisfied: six in e:\\anaconda\\lib\\site-packages (from patsy>=0.5.1->category-encoders>=2.3.0->deepchecks) (1.16.0)\n",
      "Requirement already satisfied: wcwidth in c:\\users\\admin\\appdata\\roaming\\python\\python39\\site-packages (from prompt-toolkit!=3.0.0,!=3.0.1,<3.1.0,>=2.0.0->ipython<8,>=7.15.0->deepchecks) (0.2.5)\n",
      "Requirement already satisfied: notebook>=4.4.1 in c:\\users\\admin\\appdata\\roaming\\python\\python39\\site-packages (from widgetsnbextension~=3.5.0->ipywidgets<8,>=7.6.5->deepchecks) (6.5.2)\n",
      "Requirement already satisfied: attrs>=17.4.0 in c:\\users\\admin\\appdata\\roaming\\python\\python39\\site-packages (from jsonschema>=2.6->nbformat>=4.2.0->ipywidgets<8,>=7.6.5->deepchecks) (22.1.0)\n",
      "Requirement already satisfied: pyrsistent!=0.17.0,!=0.17.1,!=0.17.2,>=0.14.0 in c:\\users\\admin\\appdata\\roaming\\python\\python39\\site-packages (from jsonschema>=2.6->nbformat>=4.2.0->ipywidgets<8,>=7.6.5->deepchecks) (0.19.2)\n",
      "Requirement already satisfied: platformdirs in c:\\users\\admin\\appdata\\roaming\\python\\python39\\site-packages (from jupyter-core>=4.9.2->jupyter-client>=6.1.12->ipykernel>=5.3.0->deepchecks) (2.4.1)\n",
      "Requirement already satisfied: pywin32>=1.0 in e:\\anaconda\\lib\\site-packages (from jupyter-core>=4.9.2->jupyter-client>=6.1.12->ipykernel>=5.3.0->deepchecks) (302)\n",
      "Requirement already satisfied: Send2Trash>=1.8.0 in c:\\users\\admin\\appdata\\roaming\\python\\python39\\site-packages (from notebook>=4.4.1->widgetsnbextension~=3.5.0->ipywidgets<8,>=7.6.5->deepchecks) (1.8.0)\n",
      "Requirement already satisfied: nbconvert>=5 in c:\\users\\admin\\appdata\\roaming\\python\\python39\\site-packages (from notebook>=4.4.1->widgetsnbextension~=3.5.0->ipywidgets<8,>=7.6.5->deepchecks) (7.2.5)\n",
      "Requirement already satisfied: jinja2 in c:\\users\\admin\\appdata\\roaming\\python\\python39\\site-packages (from notebook>=4.4.1->widgetsnbextension~=3.5.0->ipywidgets<8,>=7.6.5->deepchecks) (3.0.3)\n",
      "Requirement already satisfied: argon2-cffi in c:\\users\\admin\\appdata\\roaming\\python\\python39\\site-packages (from notebook>=4.4.1->widgetsnbextension~=3.5.0->ipywidgets<8,>=7.6.5->deepchecks) (21.3.0)\n",
      "Requirement already satisfied: prometheus-client in c:\\users\\admin\\appdata\\roaming\\python\\python39\\site-packages (from notebook>=4.4.1->widgetsnbextension~=3.5.0->ipywidgets<8,>=7.6.5->deepchecks) (0.15.0)\n",
      "Requirement already satisfied: nbclassic>=0.4.7 in c:\\users\\admin\\appdata\\roaming\\python\\python39\\site-packages (from notebook>=4.4.1->widgetsnbextension~=3.5.0->ipywidgets<8,>=7.6.5->deepchecks) (0.4.8)\n",
      "Requirement already satisfied: terminado>=0.8.3 in c:\\users\\admin\\appdata\\roaming\\python\\python39\\site-packages (from notebook>=4.4.1->widgetsnbextension~=3.5.0->ipywidgets<8,>=7.6.5->deepchecks) (0.17.0)\n",
      "Requirement already satisfied: jupyter-server>=1.8 in c:\\users\\admin\\appdata\\roaming\\python\\python39\\site-packages (from nbclassic>=0.4.7->notebook>=4.4.1->widgetsnbextension~=3.5.0->ipywidgets<8,>=7.6.5->deepchecks) (1.23.3)\n",
      "Requirement already satisfied: notebook-shim>=0.1.0 in c:\\users\\admin\\appdata\\roaming\\python\\python39\\site-packages (from nbclassic>=0.4.7->notebook>=4.4.1->widgetsnbextension~=3.5.0->ipywidgets<8,>=7.6.5->deepchecks) (0.2.2)\n",
      "Requirement already satisfied: bleach in c:\\users\\admin\\appdata\\roaming\\python\\python39\\site-packages (from nbconvert>=5->notebook>=4.4.1->widgetsnbextension~=3.5.0->ipywidgets<8,>=7.6.5->deepchecks) (5.0.1)\n",
      "Requirement already satisfied: nbclient>=0.5.0 in c:\\users\\admin\\appdata\\roaming\\python\\python39\\site-packages (from nbconvert>=5->notebook>=4.4.1->widgetsnbextension~=3.5.0->ipywidgets<8,>=7.6.5->deepchecks) (0.7.0)\n",
      "Requirement already satisfied: pandocfilters>=1.4.1 in c:\\users\\admin\\appdata\\roaming\\python\\python39\\site-packages (from nbconvert>=5->notebook>=4.4.1->widgetsnbextension~=3.5.0->ipywidgets<8,>=7.6.5->deepchecks) (1.5.0)\n",
      "Requirement already satisfied: markupsafe>=2.0 in c:\\users\\admin\\appdata\\roaming\\python\\python39\\site-packages (from nbconvert>=5->notebook>=4.4.1->widgetsnbextension~=3.5.0->ipywidgets<8,>=7.6.5->deepchecks) (2.0.1)\n",
      "Requirement already satisfied: jupyterlab-pygments in c:\\users\\admin\\appdata\\roaming\\python\\python39\\site-packages (from nbconvert>=5->notebook>=4.4.1->widgetsnbextension~=3.5.0->ipywidgets<8,>=7.6.5->deepchecks) (0.2.2)\n",
      "Requirement already satisfied: defusedxml in c:\\users\\admin\\appdata\\roaming\\python\\python39\\site-packages (from nbconvert>=5->notebook>=4.4.1->widgetsnbextension~=3.5.0->ipywidgets<8,>=7.6.5->deepchecks) (0.7.1)\n",
      "Requirement already satisfied: importlib-metadata>=3.6 in c:\\users\\admin\\appdata\\roaming\\python\\python39\\site-packages (from nbconvert>=5->notebook>=4.4.1->widgetsnbextension~=3.5.0->ipywidgets<8,>=7.6.5->deepchecks) (5.1.0)\n",
      "Requirement already satisfied: mistune<3,>=2.0.3 in c:\\users\\admin\\appdata\\roaming\\python\\python39\\site-packages (from nbconvert>=5->notebook>=4.4.1->widgetsnbextension~=3.5.0->ipywidgets<8,>=7.6.5->deepchecks) (2.0.4)\n",
      "Requirement already satisfied: tinycss2 in c:\\users\\admin\\appdata\\roaming\\python\\python39\\site-packages (from nbconvert>=5->notebook>=4.4.1->widgetsnbextension~=3.5.0->ipywidgets<8,>=7.6.5->deepchecks) (1.1.1)\n",
      "Requirement already satisfied: pywinpty>=1.1.0 in c:\\users\\admin\\appdata\\roaming\\python\\python39\\site-packages (from terminado>=0.8.3->notebook>=4.4.1->widgetsnbextension~=3.5.0->ipywidgets<8,>=7.6.5->deepchecks) (2.0.9)\n",
      "Requirement already satisfied: argon2-cffi-bindings in c:\\users\\admin\\appdata\\roaming\\python\\python39\\site-packages (from argon2-cffi->notebook>=4.4.1->widgetsnbextension~=3.5.0->ipywidgets<8,>=7.6.5->deepchecks) (21.2.0)\n",
      "Requirement already satisfied: zipp>=0.5 in c:\\users\\admin\\appdata\\roaming\\python\\python39\\site-packages (from importlib-metadata>=3.6->nbconvert>=5->notebook>=4.4.1->widgetsnbextension~=3.5.0->ipywidgets<8,>=7.6.5->deepchecks) (3.11.0)\n",
      "Requirement already satisfied: websocket-client in c:\\users\\admin\\appdata\\roaming\\python\\python39\\site-packages (from jupyter-server>=1.8->nbclassic>=0.4.7->notebook>=4.4.1->widgetsnbextension~=3.5.0->ipywidgets<8,>=7.6.5->deepchecks) (1.4.2)\n",
      "Requirement already satisfied: anyio<4,>=3.1.0 in c:\\users\\admin\\appdata\\roaming\\python\\python39\\site-packages (from jupyter-server>=1.8->nbclassic>=0.4.7->notebook>=4.4.1->widgetsnbextension~=3.5.0->ipywidgets<8,>=7.6.5->deepchecks) (3.6.2)\n",
      "Requirement already satisfied: cffi>=1.0.1 in c:\\users\\admin\\appdata\\roaming\\python\\python39\\site-packages (from argon2-cffi-bindings->argon2-cffi->notebook>=4.4.1->widgetsnbextension~=3.5.0->ipywidgets<8,>=7.6.5->deepchecks) (1.15.1)\n",
      "Requirement already satisfied: webencodings in c:\\users\\admin\\appdata\\roaming\\python\\python39\\site-packages (from bleach->nbconvert>=5->notebook>=4.4.1->widgetsnbextension~=3.5.0->ipywidgets<8,>=7.6.5->deepchecks) (0.5.1)\n",
      "Requirement already satisfied: sniffio>=1.1 in c:\\users\\admin\\appdata\\roaming\\python\\python39\\site-packages (from anyio<4,>=3.1.0->jupyter-server>=1.8->nbclassic>=0.4.7->notebook>=4.4.1->widgetsnbextension~=3.5.0->ipywidgets<8,>=7.6.5->deepchecks) (1.3.0)\n",
      "Requirement already satisfied: idna>=2.8 in c:\\users\\admin\\appdata\\roaming\\python\\python39\\site-packages (from anyio<4,>=3.1.0->jupyter-server>=1.8->nbclassic>=0.4.7->notebook>=4.4.1->widgetsnbextension~=3.5.0->ipywidgets<8,>=7.6.5->deepchecks) (3.3)\n",
      "Requirement already satisfied: pycparser in c:\\users\\admin\\appdata\\roaming\\python\\python39\\site-packages (from cffi>=1.0.1->argon2-cffi-bindings->argon2-cffi->notebook>=4.4.1->widgetsnbextension~=3.5.0->ipywidgets<8,>=7.6.5->deepchecks) (2.21)\n",
      "Installing collected packages: python-utils, jsonpickle, beautifulsoup4, PyNomaly, ipython, statsmodels, category-encoders, deepchecks\n",
      "  Attempting uninstall: beautifulsoup4\n",
      "    Found existing installation: beautifulsoup4 4.10.0\n",
      "    Uninstalling beautifulsoup4-4.10.0:\n",
      "      Successfully uninstalled beautifulsoup4-4.10.0\n",
      "  Attempting uninstall: ipython\n",
      "    Found existing installation: ipython 8.0.1\n",
      "    Uninstalling ipython-8.0.1:\n",
      "      Successfully uninstalled ipython-8.0.1\n",
      "  Attempting uninstall: statsmodels\n",
      "    Found existing installation: statsmodels 0.13.2\n",
      "    Uninstalling statsmodels-0.13.2:\n",
      "      Successfully uninstalled statsmodels-0.13.2\n",
      "Successfully installed PyNomaly-0.3.3 beautifulsoup4-4.11.2 category-encoders-2.6.0 deepchecks-0.11.1 ipython-7.34.0 jsonpickle-3.0.1 python-utils-3.5.2 statsmodels-0.13.5\n"
     ]
    }
   ],
   "source": [
    "import sys\n",
    "#!{sys.executable} -m pip install summarytools\n",
    "#!{sys.executable} -m pip install sketch\n",
    "#pip install deepchecks -U --user\n",
    "!{sys.executable}  -m pip install deepchecks "
   ]
  },
  {
   "cell_type": "code",
   "execution_count": 13,
   "id": "c241d77e",
   "metadata": {},
   "outputs": [],
   "source": [
    "from summarytools import dfSummary"
   ]
  },
  {
   "cell_type": "code",
   "execution_count": 47,
   "id": "29723c97",
   "metadata": {},
   "outputs": [],
   "source": [
    "import seaborn as sns\n",
    "import numpy as np\n",
    "import pandas as pd"
   ]
  },
  {
   "cell_type": "code",
   "execution_count": 17,
   "id": "4920ad2a",
   "metadata": {},
   "outputs": [],
   "source": [
    "titanic=sns.load_dataset('titanic')"
   ]
  },
  {
   "cell_type": "code",
   "execution_count": 44,
   "id": "42d82ee5",
   "metadata": {
    "collapsed": true
   },
   "outputs": [
    {
     "data": {
      "text/html": [
       "<style type=\"text/css\">\n",
       "#T_30983 thead>tr>th {\n",
       "  text-align: left;\n",
       "}\n",
       "#T_30983_row0_col0, #T_30983_row1_col0, #T_30983_row2_col0, #T_30983_row3_col0, #T_30983_row4_col0, #T_30983_row5_col0, #T_30983_row6_col0, #T_30983_row7_col0, #T_30983_row8_col0, #T_30983_row9_col0, #T_30983_row10_col0, #T_30983_row11_col0, #T_30983_row12_col0, #T_30983_row13_col0, #T_30983_row14_col0 {\n",
       "  text-align: left;\n",
       "  font-size: 12px;\n",
       "  vertical-align: middle;\n",
       "  width: 5%;\n",
       "  max-width: 50px;\n",
       "  min-width: 20px;\n",
       "}\n",
       "#T_30983_row0_col1, #T_30983_row1_col1, #T_30983_row2_col1, #T_30983_row3_col1, #T_30983_row4_col1, #T_30983_row5_col1, #T_30983_row6_col1, #T_30983_row7_col1, #T_30983_row8_col1, #T_30983_row9_col1, #T_30983_row10_col1, #T_30983_row11_col1, #T_30983_row12_col1, #T_30983_row13_col1, #T_30983_row14_col1 {\n",
       "  text-align: left;\n",
       "  font-size: 12px;\n",
       "  vertical-align: middle;\n",
       "  width: 15%;\n",
       "  max-width: 200px;\n",
       "  min-width: 100px;\n",
       "  word-break: break-word;\n",
       "}\n",
       "#T_30983_row0_col2, #T_30983_row1_col2, #T_30983_row2_col2, #T_30983_row3_col2, #T_30983_row4_col2, #T_30983_row5_col2, #T_30983_row6_col2, #T_30983_row7_col2, #T_30983_row8_col2, #T_30983_row9_col2, #T_30983_row10_col2, #T_30983_row11_col2, #T_30983_row12_col2, #T_30983_row13_col2, #T_30983_row14_col2 {\n",
       "  text-align: left;\n",
       "  font-size: 12px;\n",
       "  vertical-align: middle;\n",
       "  width: 30%;\n",
       "  min-width: 100px;\n",
       "}\n",
       "#T_30983_row0_col3, #T_30983_row1_col3, #T_30983_row2_col3, #T_30983_row3_col3, #T_30983_row4_col3, #T_30983_row5_col3, #T_30983_row6_col3, #T_30983_row7_col3, #T_30983_row8_col3, #T_30983_row9_col3, #T_30983_row10_col3, #T_30983_row11_col3, #T_30983_row12_col3, #T_30983_row13_col3, #T_30983_row14_col3 {\n",
       "  text-align: left;\n",
       "  font-size: 12px;\n",
       "  vertical-align: middle;\n",
       "  width: 25%;\n",
       "  min-width: 100px;\n",
       "}\n",
       "#T_30983_row0_col4, #T_30983_row1_col4, #T_30983_row2_col4, #T_30983_row3_col4, #T_30983_row4_col4, #T_30983_row5_col4, #T_30983_row6_col4, #T_30983_row7_col4, #T_30983_row8_col4, #T_30983_row9_col4, #T_30983_row10_col4, #T_30983_row11_col4, #T_30983_row12_col4, #T_30983_row13_col4, #T_30983_row14_col4 {\n",
       "  text-align: left;\n",
       "  font-size: 12px;\n",
       "  vertical-align: middle;\n",
       "  width: 20%;\n",
       "  min-width: 150px;\n",
       "}\n",
       "#T_30983_row0_col5, #T_30983_row1_col5, #T_30983_row2_col5, #T_30983_row3_col5, #T_30983_row4_col5, #T_30983_row5_col5, #T_30983_row6_col5, #T_30983_row7_col5, #T_30983_row8_col5, #T_30983_row9_col5, #T_30983_row10_col5, #T_30983_row11_col5, #T_30983_row12_col5, #T_30983_row13_col5, #T_30983_row14_col5 {\n",
       "  text-align: left;\n",
       "  font-size: 12px;\n",
       "  vertical-align: middle;\n",
       "  width: 10%;\n",
       "}\n",
       "</style>\n",
       "<table id=\"T_30983\">\n",
       "  <caption><strong>Data Frame Summary</strong><br>titanic<br>Dimensions: 891 x 15<br>Duplicates: 107</caption>\n",
       "  <thead>\n",
       "    <tr>\n",
       "      <th id=\"T_30983_level0_col0\" class=\"col_heading level0 col0\" >No</th>\n",
       "      <th id=\"T_30983_level0_col1\" class=\"col_heading level0 col1\" >Variable</th>\n",
       "      <th id=\"T_30983_level0_col2\" class=\"col_heading level0 col2\" >Stats / Values</th>\n",
       "      <th id=\"T_30983_level0_col3\" class=\"col_heading level0 col3\" >Freqs / (% of Valid)</th>\n",
       "      <th id=\"T_30983_level0_col4\" class=\"col_heading level0 col4\" >Graph</th>\n",
       "      <th id=\"T_30983_level0_col5\" class=\"col_heading level0 col5\" >Missing</th>\n",
       "    </tr>\n",
       "  </thead>\n",
       "  <tbody>\n",
       "    <tr>\n",
       "      <td id=\"T_30983_row0_col0\" class=\"data row0 col0\" >1</td>\n",
       "      <td id=\"T_30983_row0_col1\" class=\"data row0 col1\" ><strong>survived</strong><br>[int64]</td>\n",
       "      <td id=\"T_30983_row0_col2\" class=\"data row0 col2\" >Mean (sd) : 0.4 (0.5)<br>min < med < max:<br>0.0 < 0.0 < 1.0<br>IQR (CV) : 1.0 (0.8)</td>\n",
       "      <td id=\"T_30983_row0_col3\" class=\"data row0 col3\" >2 distinct values</td>\n",
       "      <td id=\"T_30983_row0_col4\" class=\"data row0 col4\" ><img src = \"data:image/png;base64, iVBORw0KGgoAAAANSUhEUgAAAHoAAAAyCAYAAACTUs/lAAAAOXRFWHRTb2Z0d2FyZQBNYXRwbG90bGliIHZlcnNpb24zLjUuMiwgaHR0cHM6Ly9tYXRwbG90bGliLm9yZy8qNh9FAAAACXBIWXMAAAsTAAALEwEAmpwYAAAA1klEQVR4nO3auwkDMRAAUZ9xuLEucFWuQLWpAlflwIqVyxUIDk7n38xLBWJhYKNdeu8n/b/zpwfQe1xGDymlW0SsWz5prT1rrfd5Y2m2YeiIWHPOjy2flFKu80bSEVzdEIaGMDSEoSEMDWFoCENDGBrC0BCGhjA0hKEhDA1haAhDQxgaYnh4oO+y9+LH0D9i78WPqxvC0BCGhjA0hKEhDA1haAhDQxgawtAQhoYwNIShIQwNYWgIQ0MYGsLQEIaGMDSEoSEMDWFoCENDGBrC0BCGhjA0xAtJ3hvfZNT9sQAAAABJRU5ErkJggg==\"></img></td>\n",
       "      <td id=\"T_30983_row0_col5\" class=\"data row0 col5\" >0<br>(0.0%)</td>\n",
       "    </tr>\n",
       "    <tr>\n",
       "      <td id=\"T_30983_row1_col0\" class=\"data row1 col0\" >2</td>\n",
       "      <td id=\"T_30983_row1_col1\" class=\"data row1 col1\" ><strong>pclass</strong><br>[int64]</td>\n",
       "      <td id=\"T_30983_row1_col2\" class=\"data row1 col2\" >Mean (sd) : 2.3 (0.8)<br>min < med < max:<br>1.0 < 3.0 < 3.0<br>IQR (CV) : 1.0 (2.8)</td>\n",
       "      <td id=\"T_30983_row1_col3\" class=\"data row1 col3\" >3 distinct values</td>\n",
       "      <td id=\"T_30983_row1_col4\" class=\"data row1 col4\" ><img src = \"data:image/png;base64, iVBORw0KGgoAAAANSUhEUgAAAHoAAAAyCAYAAACTUs/lAAAAOXRFWHRTb2Z0d2FyZQBNYXRwbG90bGliIHZlcnNpb24zLjUuMiwgaHR0cHM6Ly9tYXRwbG90bGliLm9yZy8qNh9FAAAACXBIWXMAAAsTAAALEwEAmpwYAAAA3UlEQVR4nO3bsQnDMBBA0SS4vFouPJUn0GyaIFOliGr1ShsCBoEhdvL/K4UKwYdTddfe+0X/73b0A/Qd09EP0JiU0hoR88jd1tqz1np/PzP0j4iIOef8GLlbSlk+zxzdEIaGMDSEoSEMDWFoCENDGBrC0BCGhjA0hKEhDA1haAhDQxgawtAQhoYwNIShIQwNYWgIQ0MYGsLQEJubGntXQHQum6H3roDoXBzdEMglO+K3hAxN/JYc3RCGhjA0hKEhDA1haAhDQxgawtAQhoYwNIShIQwNYWgIQ0MYGuIFUbMoHv3qTUcAAAAASUVORK5CYII=\"></img></td>\n",
       "      <td id=\"T_30983_row1_col5\" class=\"data row1 col5\" >0<br>(0.0%)</td>\n",
       "    </tr>\n",
       "    <tr>\n",
       "      <td id=\"T_30983_row2_col0\" class=\"data row2 col0\" >3</td>\n",
       "      <td id=\"T_30983_row2_col1\" class=\"data row2 col1\" ><strong>sex</strong><br>[object]</td>\n",
       "      <td id=\"T_30983_row2_col2\" class=\"data row2 col2\" >1. male<br>2. female</td>\n",
       "      <td id=\"T_30983_row2_col3\" class=\"data row2 col3\" >577 (64.8%)<br>314 (35.2%)</td>\n",
       "      <td id=\"T_30983_row2_col4\" class=\"data row2 col4\" ><img src = \"data:image/png;base64, iVBORw0KGgoAAAANSUhEUgAAAG8AAAAgCAYAAAAcyybZAAAAOXRFWHRTb2Z0d2FyZQBNYXRwbG90bGliIHZlcnNpb24zLjUuMiwgaHR0cHM6Ly9tYXRwbG90bGliLm9yZy8qNh9FAAAACXBIWXMAAAsTAAALEwEAmpwYAAAArUlEQVR4nO3ZsQ1CMQwAUYIo3Ua/+FMxQWbLBExFQer0YQEQEk180r0JLJ3kwi5rrYuYSq31HhHH7kGymnO+xhiP3XN8couIo7X23D1IVr33c/cM31x3D6D/GQ/MeGDGAzMemPHAjAdmPDDjgRkPzHhgHqZ/yHyYLr6EuFybYKnXZuaVlUHqf17mX1oGrk0w44EZD8x4YMYDMx6Y8cCMB2Y8MOOBGQ/MeGB+FcDeEvUuo8ZK8E4AAAAASUVORK5CYII=\"></img></td>\n",
       "      <td id=\"T_30983_row2_col5\" class=\"data row2 col5\" >0<br>(0.0%)</td>\n",
       "    </tr>\n",
       "    <tr>\n",
       "      <td id=\"T_30983_row3_col0\" class=\"data row3 col0\" >4</td>\n",
       "      <td id=\"T_30983_row3_col1\" class=\"data row3 col1\" ><strong>age</strong><br>[float64]</td>\n",
       "      <td id=\"T_30983_row3_col2\" class=\"data row3 col2\" >Mean (sd) : 29.7 (14.5)<br>min < med < max:<br>0.4 < 28.0 < 80.0<br>IQR (CV) : 17.9 (2.0)</td>\n",
       "      <td id=\"T_30983_row3_col3\" class=\"data row3 col3\" >88 distinct values</td>\n",
       "      <td id=\"T_30983_row3_col4\" class=\"data row3 col4\" ><img src = \"data:image/png;base64, iVBORw0KGgoAAAANSUhEUgAAAHoAAAAyCAYAAACTUs/lAAAAOXRFWHRTb2Z0d2FyZQBNYXRwbG90bGliIHZlcnNpb24zLjUuMiwgaHR0cHM6Ly9tYXRwbG90bGliLm9yZy8qNh9FAAAACXBIWXMAAAsTAAALEwEAmpwYAAABSElEQVR4nO3bsW2EMBhAYSeKRENarkjnBZIFMkGqTECbmeiYIFOlCDUNEhKZ4BCOwCC/99VIID3h+411D8uyBJXv8ewHUB5PuW/YNM1nXde3LdeO4/g7DMP30c9EkD10Xde3tm1/tlzb9/3L0c9DkT10imma3mKMX1uu9e1fd+nQVVU9+/bvw2EMwtAQhoYwNIShIQwNYWgIQ0MYGsLQEIaGMDTEpQ81UnjSta6Y0J50rXPphjA0hKEhDA1haAhDQxgawtAQhoYwNIShIYr51p2CeACCDE08AHHphjA0xN2l2z+sl+VuaP+wXhaXbohdpu6U7co8z68hhE0rxRWUshXbJXTiduV9j3vmUspWzKUbwtAQhoZAfgI9SsrgFkLe4c3QO0oZ3ELIO7y5dEMYGsLQEP5GnyjnVzdDnyhleOu67iPG+O/TxD9IUotkk+nUuQAAAABJRU5ErkJggg==\"></img></td>\n",
       "      <td id=\"T_30983_row3_col5\" class=\"data row3 col5\" >177<br>(19.9%)</td>\n",
       "    </tr>\n",
       "    <tr>\n",
       "      <td id=\"T_30983_row4_col0\" class=\"data row4 col0\" >5</td>\n",
       "      <td id=\"T_30983_row4_col1\" class=\"data row4 col1\" ><strong>sibsp</strong><br>[int64]</td>\n",
       "      <td id=\"T_30983_row4_col2\" class=\"data row4 col2\" >Mean (sd) : 0.5 (1.1)<br>min < med < max:<br>0.0 < 0.0 < 8.0<br>IQR (CV) : 1.0 (0.5)</td>\n",
       "      <td id=\"T_30983_row4_col3\" class=\"data row4 col3\" >7 distinct values</td>\n",
       "      <td id=\"T_30983_row4_col4\" class=\"data row4 col4\" ><img src = \"data:image/png;base64, iVBORw0KGgoAAAANSUhEUgAAAHoAAAAyCAYAAACTUs/lAAAAOXRFWHRTb2Z0d2FyZQBNYXRwbG90bGliIHZlcnNpb24zLjUuMiwgaHR0cHM6Ly9tYXRwbG90bGliLm9yZy8qNh9FAAAACXBIWXMAAAsTAAALEwEAmpwYAAABBElEQVR4nO3cMQ6CMBhAYTUmLHUtg1tP4D2cPAGrZ2LjBJ7KQWYWJjwBCcQC6nvfCmn+5CVdmnY/DMNO/++w9QBax3HsQ4zxFkIopyzSdd2rbdtHvrGU22joEEJZVdVzyiJN05zzjaQluHVDGBrC0BCGhjA0hKEhDA1haAhDQxgawtAQhoYwNIShIQwNYWgIQ0MYGsLQEIaGMDSEoSEMDWFoCENDGBrC0BCGhjA0hKEhRq/NztH3/SWldJ/yr3ept5EldFEUJ+9Sfze3bghDQxgawtAQhoYwNIShIQwNYWgIQ0MYGsLQEFkONebwpGsbq4eec9JV1/U1pZT9KelffKL605nfod1F7Att5gkAAAAASUVORK5CYII=\"></img></td>\n",
       "      <td id=\"T_30983_row4_col5\" class=\"data row4 col5\" >0<br>(0.0%)</td>\n",
       "    </tr>\n",
       "    <tr>\n",
       "      <td id=\"T_30983_row5_col0\" class=\"data row5 col0\" >6</td>\n",
       "      <td id=\"T_30983_row5_col1\" class=\"data row5 col1\" ><strong>parch</strong><br>[int64]</td>\n",
       "      <td id=\"T_30983_row5_col2\" class=\"data row5 col2\" >Mean (sd) : 0.4 (0.8)<br>min < med < max:<br>0.0 < 0.0 < 6.0<br>IQR (CV) : 0.0 (0.5)</td>\n",
       "      <td id=\"T_30983_row5_col3\" class=\"data row5 col3\" >7 distinct values</td>\n",
       "      <td id=\"T_30983_row5_col4\" class=\"data row5 col4\" ><img src = \"data:image/png;base64, iVBORw0KGgoAAAANSUhEUgAAAHoAAAAyCAYAAACTUs/lAAAAOXRFWHRTb2Z0d2FyZQBNYXRwbG90bGliIHZlcnNpb24zLjUuMiwgaHR0cHM6Ly9tYXRwbG90bGliLm9yZy8qNh9FAAAACXBIWXMAAAsTAAALEwEAmpwYAAAA80lEQVR4nO3cMQrCQBBAURUhzdomhd2ewKt4gm29Vk7gqSxMnSbVeoJAhIkJ/v/aLMvAhyXVHGutB/2/09YD6DfOcx/atr2nlLoll4zj+B6G4Rk3lqLNhk4pdaWU15JL+r6/xo2kNfh0QxgawtAQhoYwNIShIQwNYWgIQ0MYGsLQEIaGMDSEoSEMDWFoCENDGBrC0BCGhjA0hKEhDA1haAhDQxgawtAQhoYwNIShIQwNYWgIQ0MYGsLQEIaGMDSEoSFm1099Y5qmW875seSsO8m2ERK6aZqLO8n2LST0WtxeGGfXod1eGMefMQhDQxgawtAQH+5MKyBut93rAAAAAElFTkSuQmCC\"></img></td>\n",
       "      <td id=\"T_30983_row5_col5\" class=\"data row5 col5\" >0<br>(0.0%)</td>\n",
       "    </tr>\n",
       "    <tr>\n",
       "      <td id=\"T_30983_row6_col0\" class=\"data row6 col0\" >7</td>\n",
       "      <td id=\"T_30983_row6_col1\" class=\"data row6 col1\" ><strong>fare</strong><br>[float64]</td>\n",
       "      <td id=\"T_30983_row6_col2\" class=\"data row6 col2\" >Mean (sd) : 32.2 (49.7)<br>min < med < max:<br>0.0 < 14.5 < 512.3<br>IQR (CV) : 23.1 (0.6)</td>\n",
       "      <td id=\"T_30983_row6_col3\" class=\"data row6 col3\" >248 distinct values</td>\n",
       "      <td id=\"T_30983_row6_col4\" class=\"data row6 col4\" ><img src = \"data:image/png;base64, iVBORw0KGgoAAAANSUhEUgAAAHoAAAAyCAYAAACTUs/lAAAAOXRFWHRTb2Z0d2FyZQBNYXRwbG90bGliIHZlcnNpb24zLjUuMiwgaHR0cHM6Ly9tYXRwbG90bGliLm9yZy8qNh9FAAAACXBIWXMAAAsTAAALEwEAmpwYAAAA90lEQVR4nO3cMQ6CMBhAYTUmLHUtgxsn8CqeoKvX6gk8lYPMLEx4AkxJChjf+1ZI0+Qlbaf/OE3TQf/vtPcGtI3z3IcY4z2E0JYsMgzDu+/7Z71tqbbZ0CGENqX0Klkk53yttyWtwaMbwtAQhoYwNIShIQwNYWgIQ0MYGsLQEIaGMDSEoSEMDWFoCENDGBrC0BCGhjA0hKEhDA1haAhDQxgawtAQhoYwNIShIQwNYWgIQ0MYGsLQEIaGMDSEoSEMDWFoiNk5Y0uM43jruu5R8q/D5/ZRJXTTNBeHz/02j24IQ0MYGqLKHb2ED7d9bB56rYebY6e/+wBKojYiOT9OngAAAABJRU5ErkJggg==\"></img></td>\n",
       "      <td id=\"T_30983_row6_col5\" class=\"data row6 col5\" >0<br>(0.0%)</td>\n",
       "    </tr>\n",
       "    <tr>\n",
       "      <td id=\"T_30983_row7_col0\" class=\"data row7 col0\" >8</td>\n",
       "      <td id=\"T_30983_row7_col1\" class=\"data row7 col1\" ><strong>embarked</strong><br>[object]</td>\n",
       "      <td id=\"T_30983_row7_col2\" class=\"data row7 col2\" >1. S<br>2. C<br>3. Q<br>4. nan</td>\n",
       "      <td id=\"T_30983_row7_col3\" class=\"data row7 col3\" >644 (72.3%)<br>168 (18.9%)<br>77 (8.6%)<br>2 (0.2%)</td>\n",
       "      <td id=\"T_30983_row7_col4\" class=\"data row7 col4\" ><img src = \"data:image/png;base64, iVBORw0KGgoAAAANSUhEUgAAAG8AAABBCAYAAADfY/omAAAAOXRFWHRTb2Z0d2FyZQBNYXRwbG90bGliIHZlcnNpb24zLjUuMiwgaHR0cHM6Ly9tYXRwbG90bGliLm9yZy8qNh9FAAAACXBIWXMAAAsTAAALEwEAmpwYAAABHElEQVR4nO3ZsQ3CMBBAUduidBuloId5mCCzZQL2oacgdfqwQmSRXD75bwGf9KUrfHlZliSmEj2A2hkPLHdd96i19tGDkM3z/Jmm6bn3u5daaz8Mw3vvh//JOI7XiHddm2DGAzMemPHAjAdmPDDjgRkPzHhgxgPzb/MHov42s/c8Ltcm2CZrM2qNnM0mJ6GoE8nZuDbBjAdmPDDjgRkPzHhgxgMzHpjxwIwHZjwwP6bBvOeBuTbBVq9NV+HxrL7neaM7HtcmmPHAjAdmPDDjgRkPzHhgxgMzHpjxwPzbBPMkBObaBDMeWMk536OHUJuSUrpFD6E2rk0w44EZD8x4YMYDMx6Y8cCMB2Y8MOOBlZTSK3oItfGeB+baBPsCjpdNOEM/FUMAAAAASUVORK5CYII=\"></img></td>\n",
       "      <td id=\"T_30983_row7_col5\" class=\"data row7 col5\" >2<br>(0.2%)</td>\n",
       "    </tr>\n",
       "    <tr>\n",
       "      <td id=\"T_30983_row8_col0\" class=\"data row8 col0\" >9</td>\n",
       "      <td id=\"T_30983_row8_col1\" class=\"data row8 col1\" ><strong>class</strong><br>[category]</td>\n",
       "      <td id=\"T_30983_row8_col2\" class=\"data row8 col2\" >1. Third<br>2. First<br>3. Second</td>\n",
       "      <td id=\"T_30983_row8_col3\" class=\"data row8 col3\" >491 (55.1%)<br>216 (24.2%)<br>184 (20.7%)</td>\n",
       "      <td id=\"T_30983_row8_col4\" class=\"data row8 col4\" ><img src = \"data:image/png;base64, iVBORw0KGgoAAAANSUhEUgAAAG8AAAAwCAYAAAAfHSRCAAAAOXRFWHRTb2Z0d2FyZQBNYXRwbG90bGliIHZlcnNpb24zLjUuMiwgaHR0cHM6Ly9tYXRwbG90bGliLm9yZy8qNh9FAAAACXBIWXMAAAsTAAALEwEAmpwYAAAA3ElEQVR4nO3ZsQ0CMQxAUYIo3UZXMBUTZLZMwFQUXJ0+7AAkuX/6bwJLX3Jhp977RUwp5/yIiG31IDO11t77vj9Xz/GrW0RspZTX6kFmqrXeV8/wD9fVA+h7xgMzHpjxwIwHZjww44EZD8x4YMYDMx6Yh2mw5EuIy7UJNnVtnmVdHcXUf95Z/mhH4doEMx6Y8cCMB2Y8MOOBGQ/MeGDGAzMemPHAPEyD+c8Dc22CDV2brsmxhv7z/N+N5doEMx6Y8cCMB2Y8MOOBGQ/MeGDGAzMemPHAPEyD+c8D+wBbzkjwkNvOqQAAAABJRU5ErkJggg==\"></img></td>\n",
       "      <td id=\"T_30983_row8_col5\" class=\"data row8 col5\" >0<br>(0.0%)</td>\n",
       "    </tr>\n",
       "    <tr>\n",
       "      <td id=\"T_30983_row9_col0\" class=\"data row9 col0\" >10</td>\n",
       "      <td id=\"T_30983_row9_col1\" class=\"data row9 col1\" ><strong>who</strong><br>[object]</td>\n",
       "      <td id=\"T_30983_row9_col2\" class=\"data row9 col2\" >1. man<br>2. woman<br>3. child</td>\n",
       "      <td id=\"T_30983_row9_col3\" class=\"data row9 col3\" >537 (60.3%)<br>271 (30.4%)<br>83 (9.3%)</td>\n",
       "      <td id=\"T_30983_row9_col4\" class=\"data row9 col4\" ><img src = \"data:image/png;base64, iVBORw0KGgoAAAANSUhEUgAAAG8AAAAwCAYAAAAfHSRCAAAAOXRFWHRTb2Z0d2FyZQBNYXRwbG90bGliIHZlcnNpb24zLjUuMiwgaHR0cHM6Ly9tYXRwbG90bGliLm9yZy8qNh9FAAAACXBIWXMAAAsTAAALEwEAmpwYAAAA3UlEQVR4nO3ZsQ1CMQwAUYIo3Ua/YCom+LNlAqaiIHX60FIGmvikexNYOsmFXeacFzGVWusjIo7dg2Qwxnj33p+751h1i4jjPM/X7kEyaK3dd8/wi+vuAfQ/44EZD8x4YMYDMx6Y8cCMB2Y8MOOBGQ/Mw/QX2mG6+BLicm2CpVmbtJWVQZp/Hu2XloFrE8x4YMYDMx6Y8cCMB2Y8MOOBGQ/MeGDGA/MwDeY/D8y1Cba8Nl1r+Sz/8/y35ePaBDMemPHAjAdmPDDjgRkPzHhgxgMzHpjxwDxMg/nPA/sAW85I8OXtqDoAAAAASUVORK5CYII=\"></img></td>\n",
       "      <td id=\"T_30983_row9_col5\" class=\"data row9 col5\" >0<br>(0.0%)</td>\n",
       "    </tr>\n",
       "    <tr>\n",
       "      <td id=\"T_30983_row10_col0\" class=\"data row10 col0\" >11</td>\n",
       "      <td id=\"T_30983_row10_col1\" class=\"data row10 col1\" ><strong>adult_male</strong><br>[bool]</td>\n",
       "      <td id=\"T_30983_row10_col2\" class=\"data row10 col2\" >1. True<br>2. False</td>\n",
       "      <td id=\"T_30983_row10_col3\" class=\"data row10 col3\" >537 (60.3%)<br>354 (39.7%)</td>\n",
       "      <td id=\"T_30983_row10_col4\" class=\"data row10 col4\" ><img src = \"data:image/png;base64, iVBORw0KGgoAAAANSUhEUgAAAG8AAAAgCAYAAAAcyybZAAAAOXRFWHRTb2Z0d2FyZQBNYXRwbG90bGliIHZlcnNpb24zLjUuMiwgaHR0cHM6Ly9tYXRwbG90bGliLm9yZy8qNh9FAAAACXBIWXMAAAsTAAALEwEAmpwYAAAArUlEQVR4nO3ZsQ0CMQxAUYIo3UZX3FRMkNkyAVNRkDp9aCkB6eT70n8TWPqSC7ustS5iKrXWe0Rs2YOcwZzzNcZ4ZM/xrVtEbK21Z/YgZ9B737Nn+MU1ewD9z3hgxgMzHpjxwIwHZjww44EZD8x4YMYD8zD9gXaYLr6EuFybYLi1SVttR8L982g/tyO5NsGMB2Y8MOOBGQ/MeGDGAzMemPHAjAdmPDDjgflVAHsDEvUuoxNpDCMAAAAASUVORK5CYII=\"></img></td>\n",
       "      <td id=\"T_30983_row10_col5\" class=\"data row10 col5\" >0<br>(0.0%)</td>\n",
       "    </tr>\n",
       "    <tr>\n",
       "      <td id=\"T_30983_row11_col0\" class=\"data row11 col0\" >12</td>\n",
       "      <td id=\"T_30983_row11_col1\" class=\"data row11 col1\" ><strong>deck</strong><br>[category]</td>\n",
       "      <td id=\"T_30983_row11_col2\" class=\"data row11 col2\" >1. nan<br>2. C<br>3. B<br>4. D<br>5. E<br>6. A<br>7. F<br>8. G</td>\n",
       "      <td id=\"T_30983_row11_col3\" class=\"data row11 col3\" >688 (77.2%)<br>59 (6.6%)<br>47 (5.3%)<br>33 (3.7%)<br>32 (3.6%)<br>15 (1.7%)<br>13 (1.5%)<br>4 (0.4%)</td>\n",
       "      <td id=\"T_30983_row11_col4\" class=\"data row11 col4\" ><img src = \"data:image/png;base64, iVBORw0KGgoAAAANSUhEUgAAAG8AAACCCAYAAABIH5Y8AAAAOXRFWHRTb2Z0d2FyZQBNYXRwbG90bGliIHZlcnNpb24zLjUuMiwgaHR0cHM6Ly9tYXRwbG90bGliLm9yZy8qNh9FAAAACXBIWXMAAAsTAAALEwEAmpwYAAABy0lEQVR4nO3dsW3CYBhFURtRurUoMhUTMBsTZKoUULsnVdIgKJAM3OScBUC6yiv+Dynj5XIZaNq8+gvwOPHCxAsTL2yc53k/TdPu1V/kr1mW5XQ+nz/X/IztNE27w+HwteaH/EfH4/Fj7c8wm2HihYkXJl6YeGHihYkXJl6YeGHihYkX5mF6Jc94mB79DKLLbIbdnc1n/OnzuLv3vGfcpHic2QwTL0y8MPHCxAsTL0y8MPHCxAsTL8zbZpiTUJjZDLs5mybz/d08CTkHvT+zGSZemHhh4oWJFyZemHhh4oWJFyZemLfNMCehMLMZdjWb5rLj6iTkFNRhNsPECxMvTLww8cLECxMvTLww8cLEC/O2GeYkFGY2w8xmmJNQmNkMEy9MvDDxwsQLEy9MvDDxwsQLEy/M22aYk1CY2Qz7nU1z2bP5OQn5H3o9ZjNMvDDxwsQLEy9MvDDxwsQLEy9MvDDxwjxMh7nnhZnNMLMZ5p4XZjbDxAsTL0y8MPHCxAsTL0y8MPHCxAvzthnmJBRmNsPGeZ73wzAMJrNn6xTUZTbDxAsTL0y8MPHCxAsTL0y8MPHCxAvbLstyevWX4DFOQmFmM0y8MPHCxAv7Bj9orcqbQZPcAAAAAElFTkSuQmCC\"></img></td>\n",
       "      <td id=\"T_30983_row11_col5\" class=\"data row11 col5\" >688<br>(77.2%)</td>\n",
       "    </tr>\n",
       "    <tr>\n",
       "      <td id=\"T_30983_row12_col0\" class=\"data row12 col0\" >13</td>\n",
       "      <td id=\"T_30983_row12_col1\" class=\"data row12 col1\" ><strong>embark_town</strong><br>[object]</td>\n",
       "      <td id=\"T_30983_row12_col2\" class=\"data row12 col2\" >1. Southampton<br>2. Cherbourg<br>3. Queenstown<br>4. nan</td>\n",
       "      <td id=\"T_30983_row12_col3\" class=\"data row12 col3\" >644 (72.3%)<br>168 (18.9%)<br>77 (8.6%)<br>2 (0.2%)</td>\n",
       "      <td id=\"T_30983_row12_col4\" class=\"data row12 col4\" ><img src = \"data:image/png;base64, iVBORw0KGgoAAAANSUhEUgAAAG8AAABBCAYAAADfY/omAAAAOXRFWHRTb2Z0d2FyZQBNYXRwbG90bGliIHZlcnNpb24zLjUuMiwgaHR0cHM6Ly9tYXRwbG90bGliLm9yZy8qNh9FAAAACXBIWXMAAAsTAAALEwEAmpwYAAABHElEQVR4nO3ZsQ3CMBBAUduidBuloId5mCCzZQL2oacgdfqwQmSRXD75bwGf9KUrfHlZliSmEj2A2hkPLHdd96i19tGDkM3z/Jmm6bn3u5daaz8Mw3vvh//JOI7XiHddm2DGAzMemPHAjAdmPDDjgRkPzHhgxgPzb/MHov42s/c8Ltcm2CZrM2qNnM0mJ6GoE8nZuDbBjAdmPDDjgRkPzHhgxgMzHpjxwIwHZjwwP6bBvOeBuTbBVq9NV+HxrL7neaM7HtcmmPHAjAdmPDDjgRkPzHhgxgMzHpjxwPzbBPMkBObaBDMeWMk536OHUJuSUrpFD6E2rk0w44EZD8x4YMYDMx6Y8cCMB2Y8MOOBlZTSK3oItfGeB+baBPsCjpdNOEM/FUMAAAAASUVORK5CYII=\"></img></td>\n",
       "      <td id=\"T_30983_row12_col5\" class=\"data row12 col5\" >2<br>(0.2%)</td>\n",
       "    </tr>\n",
       "    <tr>\n",
       "      <td id=\"T_30983_row13_col0\" class=\"data row13 col0\" >14</td>\n",
       "      <td id=\"T_30983_row13_col1\" class=\"data row13 col1\" ><strong>alive</strong><br>[object]</td>\n",
       "      <td id=\"T_30983_row13_col2\" class=\"data row13 col2\" >1. no<br>2. yes</td>\n",
       "      <td id=\"T_30983_row13_col3\" class=\"data row13 col3\" >549 (61.6%)<br>342 (38.4%)</td>\n",
       "      <td id=\"T_30983_row13_col4\" class=\"data row13 col4\" ><img src = \"data:image/png;base64, iVBORw0KGgoAAAANSUhEUgAAAG8AAAAgCAYAAAAcyybZAAAAOXRFWHRTb2Z0d2FyZQBNYXRwbG90bGliIHZlcnNpb24zLjUuMiwgaHR0cHM6Ly9tYXRwbG90bGliLm9yZy8qNh9FAAAACXBIWXMAAAsTAAALEwEAmpwYAAAArUlEQVR4nO3ZsQ0CMQxAUYIo3UZX3FRMkNkyAVNRkDp9WAAJRHG+L/03gaUvubDLWusiplJrvUfElj3Imcw5X2OMR/Yc39wiYmutPbMHOZPe+549wy+u2QPof8YDMx6Y8cCMB2Y8MOOBGQ/MeGDGAzMemIfpDyiH6eJLiMu1CYZam5R1dhTUP4/yZzuKaxPMeGDGAzMemPHAjAdmPDDjgRkPzHhgxgMzHphfBbA30V4uo0H83KUAAAAASUVORK5CYII=\"></img></td>\n",
       "      <td id=\"T_30983_row13_col5\" class=\"data row13 col5\" >0<br>(0.0%)</td>\n",
       "    </tr>\n",
       "    <tr>\n",
       "      <td id=\"T_30983_row14_col0\" class=\"data row14 col0\" >15</td>\n",
       "      <td id=\"T_30983_row14_col1\" class=\"data row14 col1\" ><strong>alone</strong><br>[bool]</td>\n",
       "      <td id=\"T_30983_row14_col2\" class=\"data row14 col2\" >1. True<br>2. False</td>\n",
       "      <td id=\"T_30983_row14_col3\" class=\"data row14 col3\" >537 (60.3%)<br>354 (39.7%)</td>\n",
       "      <td id=\"T_30983_row14_col4\" class=\"data row14 col4\" ><img src = \"data:image/png;base64, iVBORw0KGgoAAAANSUhEUgAAAG8AAAAgCAYAAAAcyybZAAAAOXRFWHRTb2Z0d2FyZQBNYXRwbG90bGliIHZlcnNpb24zLjUuMiwgaHR0cHM6Ly9tYXRwbG90bGliLm9yZy8qNh9FAAAACXBIWXMAAAsTAAALEwEAmpwYAAAArUlEQVR4nO3ZsQ0CMQxAUYIo3UZX3FRMkNkyAVNRkDp9aCkB6eT70n8TWPqSC7ustS5iKrXWe0Rs2YOcwZzzNcZ4ZM/xrVtEbK21Z/YgZ9B737Nn+MU1ewD9z3hgxgMzHpjxwIwHZjww44EZD8x4YMYD8zD9gXaYLr6EuFybYLi1SVttR8L982g/tyO5NsGMB2Y8MOOBGQ/MeGDGAzMemPHAjAdmPDDjgflVAHsDEvUuoxNpDCMAAAAASUVORK5CYII=\"></img></td>\n",
       "      <td id=\"T_30983_row14_col5\" class=\"data row14 col5\" >0<br>(0.0%)</td>\n",
       "    </tr>\n",
       "  </tbody>\n",
       "</table>\n"
      ],
      "text/plain": [
       "<pandas.io.formats.style.Styler at 0x24e797989d0>"
      ]
     },
     "execution_count": 44,
     "metadata": {},
     "output_type": "execute_result"
    }
   ],
   "source": [
    "dfSummary(titanic)"
   ]
  },
  {
   "cell_type": "markdown",
   "id": "e88a099c",
   "metadata": {},
   "source": [
    "### Playing with Numpy "
   ]
  },
  {
   "cell_type": "code",
   "execution_count": 66,
   "id": "a92164a6",
   "metadata": {},
   "outputs": [],
   "source": [
    "#create a len 10 int arr filled with 0\n",
    "k=np.zeros(10,int).reshape(5,2)\n",
    "#create 3x5 float arr\n",
    "k1=np.ones((3,5),float)\n",
    "#create 3x5 array fill with 3.14\n",
    "k2=np.ones((3,5),float)*3.14\n",
    "k21=np.full((3,5),3.14)"
   ]
  },
  {
   "cell_type": "code",
   "execution_count": 110,
   "id": "35a5539c",
   "metadata": {},
   "outputs": [
    {
     "data": {
      "text/plain": [
       "array([[1., 0., 0.],\n",
       "       [0., 1., 0.],\n",
       "       [0., 0., 1.]])"
      ]
     },
     "execution_count": 110,
     "metadata": {},
     "output_type": "execute_result"
    }
   ],
   "source": [
    "#create sequence in numpy\n",
    "\n",
    "l=np.arange(2,10,2)\n",
    "#create a evenly spaced seq \n",
    "np.linspace(1,5,6)\n",
    "#create 3x3 matrix of randomly dist values\n",
    "np.random.random((3,3))\n",
    "#create 4x2 mat with normally dist rand val \n",
    "np.random.normal(0,1,(4,2))\n",
    "#random ints in intervals\n",
    "\n",
    "np.random.randint(0,10,(3,3))\n",
    "np.eye(3)"
   ]
  },
  {
   "cell_type": "code",
   "execution_count": 126,
   "id": "d59b7d67",
   "metadata": {},
   "outputs": [],
   "source": [
    "np.random.seed(0)\n",
    "x1=np.random.randint(10,30,6)\n",
    "x2=np.random.randint(10,30,(3,4))\n",
    "x3=np.random.randint(10,30,(3,4,5))\n"
   ]
  },
  {
   "cell_type": "code",
   "execution_count": 127,
   "id": "aef391ca",
   "metadata": {},
   "outputs": [
    {
     "data": {
      "text/plain": [
       "array([[19, 29, 28, 14],\n",
       "       [16, 22, 11, 16],\n",
       "       [17, 24, 27, 15]])"
      ]
     },
     "execution_count": 127,
     "metadata": {},
     "output_type": "execute_result"
    }
   ],
   "source": [
    "x2"
   ]
  },
  {
   "cell_type": "code",
   "execution_count": 145,
   "id": "0a4f30ac",
   "metadata": {},
   "outputs": [
    {
     "data": {
      "text/plain": [
       "array([[16, 22, 11, 16]])"
      ]
     },
     "execution_count": 145,
     "metadata": {},
     "output_type": "execute_result"
    }
   ],
   "source": [
    "x2[0][0] \n",
    "x2[0,0]\n",
    "x3[0,2:3]\n",
    "x2[0,1::2]\n",
    "x2[1::2]"
   ]
  },
  {
   "cell_type": "code",
   "execution_count": 149,
   "id": "abb79af2",
   "metadata": {},
   "outputs": [
    {
     "data": {
      "text/plain": [
       "array([28, 29, 19])"
      ]
     },
     "execution_count": 149,
     "metadata": {},
     "output_type": "execute_result"
    }
   ],
   "source": [
    "x2[0][2::-1]\n"
   ]
  },
  {
   "cell_type": "code",
   "execution_count": 157,
   "id": "67e3c159",
   "metadata": {},
   "outputs": [
    {
     "data": {
      "text/plain": [
       "array([[  19, 5578,   28,   14],\n",
       "       [  16,   22,   11,   16],\n",
       "       [  17,   24,   27,   15]])"
      ]
     },
     "execution_count": 157,
     "metadata": {},
     "output_type": "execute_result"
    }
   ],
   "source": [
    "#Array slices return views rather than copies \n",
    "#ie views can modify the original array\n",
    "k=x2[0,1::2]\n",
    "k[0]=5578\n",
    "x2"
   ]
  },
  {
   "cell_type": "code",
   "execution_count": 163,
   "id": "d871c9a3",
   "metadata": {},
   "outputs": [
    {
     "data": {
      "text/plain": [
       "array([[  19, 5578,   28,   14],\n",
       "       [  16,   22,   11,   16],\n",
       "       [  17,   24,   27,   15]])"
      ]
     },
     "execution_count": 163,
     "metadata": {},
     "output_type": "execute_result"
    }
   ],
   "source": [
    "#create copies of arrays\n",
    "k=x2[0,::-1].copy()\n",
    "k[0]=23\n",
    "x2"
   ]
  },
  {
   "cell_type": "code",
   "execution_count": 165,
   "id": "9c90113e",
   "metadata": {},
   "outputs": [
    {
     "data": {
      "text/plain": [
       "array([[  19, 5578,   28,   14],\n",
       "       [  16,   22,   11,   16],\n",
       "       [  17,   24,   27,   15]])"
      ]
     },
     "execution_count": 165,
     "metadata": {},
     "output_type": "execute_result"
    }
   ],
   "source": [
    "x2[np.newaxis:]"
   ]
  },
  {
   "cell_type": "code",
   "execution_count": 177,
   "id": "7453b535",
   "metadata": {},
   "outputs": [
    {
     "data": {
      "text/plain": [
       "array([[  19, 5578,   28,   14],\n",
       "       [  16,   22,   11,   16],\n",
       "       [  23,   28, 5578,   19]])"
      ]
     },
     "execution_count": 177,
     "metadata": {},
     "output_type": "execute_result"
    }
   ],
   "source": [
    "m=x2[0:2]\n",
    "np.vstack([m,k])\n"
   ]
  },
  {
   "cell_type": "code",
   "execution_count": 182,
   "id": "a011df92",
   "metadata": {},
   "outputs": [
    {
     "data": {
      "text/plain": [
       "array([ 2,  3,  4, -5, -6, -7,  8,  9])"
      ]
     },
     "execution_count": 182,
     "metadata": {},
     "output_type": "execute_result"
    }
   ],
   "source": [
    "#boolean indexing\n",
    "c=np.arange(2,10)\n",
    "c[(c>4) & (c<8)]*=-1\n",
    "c"
   ]
  },
  {
   "cell_type": "code",
   "execution_count": 192,
   "id": "4e4d7294",
   "metadata": {},
   "outputs": [
    {
     "data": {
      "text/plain": [
       "array([  19, 5578,   28,   14,   16,   22,   11,   16,   17,   24,   27,\n",
       "         15])"
      ]
     },
     "execution_count": 192,
     "metadata": {},
     "output_type": "execute_result"
    }
   ],
   "source": [
    "x2.max(axis=0)\n",
    "x2.flatten()"
   ]
  },
  {
   "cell_type": "code",
   "execution_count": 208,
   "id": "b9c9b22d",
   "metadata": {},
   "outputs": [
    {
     "data": {
      "text/plain": [
       "array([[34, 53, 69],\n",
       "       [ 8, 62, 80],\n",
       "       [ 1, 61, 81]])"
      ]
     },
     "execution_count": 208,
     "metadata": {},
     "output_type": "execute_result"
    }
   ],
   "source": [
    "np.sum(x2)\n",
    "np.sort(np.random.randint(0,100,(3,3)),axis=1)  #sort along row or column"
   ]
  },
  {
   "cell_type": "code",
   "execution_count": 218,
   "id": "a56d5fab",
   "metadata": {},
   "outputs": [
    {
     "data": {
      "text/plain": [
       "array([[  14,   19,   28, 5578],\n",
       "       [  11,   16,   16,   22],\n",
       "       [  15,   17,   24,   27]])"
      ]
     },
     "execution_count": 218,
     "metadata": {},
     "output_type": "execute_result"
    }
   ],
   "source": [
    "np.partition(x2,3,axis=1)"
   ]
  },
  {
   "cell_type": "code",
   "execution_count": 220,
   "id": "32dc6e8b",
   "metadata": {},
   "outputs": [
    {
     "data": {
      "text/plain": [
       "array([19, 22, 27])"
      ]
     },
     "execution_count": 220,
     "metadata": {},
     "output_type": "execute_result"
    }
   ],
   "source": [
    "x2.diagonal()"
   ]
  },
  {
   "cell_type": "markdown",
   "id": "9910241e",
   "metadata": {},
   "source": [
    "#### Playing  with pandas"
   ]
  },
  {
   "cell_type": "code",
   "execution_count": 240,
   "id": "e213d3ac",
   "metadata": {},
   "outputs": [
    {
     "data": {
      "text/plain": [
       "a    7\n",
       "b    4\n",
       "c    1\n",
       "dtype: int32"
      ]
     },
     "execution_count": 240,
     "metadata": {},
     "output_type": "execute_result"
    }
   ],
   "source": [
    "dt=pd.Series(np.random.randint(0,10,3),index=['a','b','c'])\n",
    "dt"
   ]
  },
  {
   "cell_type": "code",
   "execution_count": 241,
   "id": "f4b52710",
   "metadata": {},
   "outputs": [
    {
     "data": {
      "text/plain": [
       "4"
      ]
     },
     "execution_count": 241,
     "metadata": {},
     "output_type": "execute_result"
    }
   ],
   "source": [
    "dt['b']"
   ]
  },
  {
   "cell_type": "code",
   "execution_count": 244,
   "id": "d545464e",
   "metadata": {},
   "outputs": [
    {
     "data": {
      "text/plain": [
       "a1    1\n",
       "a2    2\n",
       "dtype: int64"
      ]
     },
     "execution_count": 244,
     "metadata": {},
     "output_type": "execute_result"
    }
   ],
   "source": [
    "dictionary={'a1':1,'a2':2,'a3':23}\n",
    "dp=pd.Series(dictionary)\n",
    "dp['a1':'a2']"
   ]
  },
  {
   "cell_type": "code",
   "execution_count": 249,
   "id": "a8cb7fc0",
   "metadata": {},
   "outputs": [
    {
     "data": {
      "text/plain": [
       "a1    1\n",
       "dtype: int64"
      ]
     },
     "execution_count": 249,
     "metadata": {},
     "output_type": "execute_result"
    }
   ],
   "source": [
    "pd.Series(dictionary,index=['a1']) #choose specific indices"
   ]
  },
  {
   "cell_type": "code",
   "execution_count": 256,
   "id": "e56651b7",
   "metadata": {},
   "outputs": [
    {
     "data": {
      "text/html": [
       "<div>\n",
       "<style scoped>\n",
       "    .dataframe tbody tr th:only-of-type {\n",
       "        vertical-align: middle;\n",
       "    }\n",
       "\n",
       "    .dataframe tbody tr th {\n",
       "        vertical-align: top;\n",
       "    }\n",
       "\n",
       "    .dataframe thead th {\n",
       "        text-align: right;\n",
       "    }\n",
       "</style>\n",
       "<table border=\"1\" class=\"dataframe\">\n",
       "  <thead>\n",
       "    <tr style=\"text-align: right;\">\n",
       "      <th></th>\n",
       "      <th>val</th>\n",
       "    </tr>\n",
       "  </thead>\n",
       "  <tbody>\n",
       "    <tr>\n",
       "      <th>Chennai</th>\n",
       "      <td>223</td>\n",
       "    </tr>\n",
       "    <tr>\n",
       "      <th>Trichy</th>\n",
       "      <td>34</td>\n",
       "    </tr>\n",
       "    <tr>\n",
       "      <th>Madurai</th>\n",
       "      <td>324</td>\n",
       "    </tr>\n",
       "    <tr>\n",
       "      <th>Delhi</th>\n",
       "      <td>2324</td>\n",
       "    </tr>\n",
       "    <tr>\n",
       "      <th>Mumbai</th>\n",
       "      <td>3232</td>\n",
       "    </tr>\n",
       "  </tbody>\n",
       "</table>\n",
       "</div>"
      ],
      "text/plain": [
       "          val\n",
       "Chennai   223\n",
       "Trichy     34\n",
       "Madurai   324\n",
       "Delhi    2324\n",
       "Mumbai   3232"
      ]
     },
     "execution_count": 256,
     "metadata": {},
     "output_type": "execute_result"
    }
   ],
   "source": [
    "tstdict={'Chennai':223,'Trichy':34,'Madurai':324,'Delhi':2324,'Mumbai':3232}\n",
    "ar=pd.Series(tstdict)\n",
    "df=pd.DataFrame({'val':ar})\n",
    "df"
   ]
  },
  {
   "cell_type": "code",
   "execution_count": 258,
   "id": "6d14d695",
   "metadata": {},
   "outputs": [
    {
     "data": {
      "text/plain": [
       "Index(['Chennai', 'Trichy', 'Madurai', 'Delhi', 'Mumbai'], dtype='object')"
      ]
     },
     "execution_count": 258,
     "metadata": {},
     "output_type": "execute_result"
    }
   ],
   "source": [
    "df.index"
   ]
  },
  {
   "cell_type": "code",
   "execution_count": 260,
   "id": "0c6bb498",
   "metadata": {},
   "outputs": [
    {
     "data": {
      "text/html": [
       "<div>\n",
       "<style scoped>\n",
       "    .dataframe tbody tr th:only-of-type {\n",
       "        vertical-align: middle;\n",
       "    }\n",
       "\n",
       "    .dataframe tbody tr th {\n",
       "        vertical-align: top;\n",
       "    }\n",
       "\n",
       "    .dataframe thead th {\n",
       "        text-align: right;\n",
       "    }\n",
       "</style>\n",
       "<table border=\"1\" class=\"dataframe\">\n",
       "  <thead>\n",
       "    <tr style=\"text-align: right;\">\n",
       "      <th></th>\n",
       "      <th>val</th>\n",
       "    </tr>\n",
       "  </thead>\n",
       "  <tbody>\n",
       "    <tr>\n",
       "      <th>Chennai</th>\n",
       "      <td>223</td>\n",
       "    </tr>\n",
       "    <tr>\n",
       "      <th>Trichy</th>\n",
       "      <td>34</td>\n",
       "    </tr>\n",
       "    <tr>\n",
       "      <th>Madurai</th>\n",
       "      <td>324</td>\n",
       "    </tr>\n",
       "    <tr>\n",
       "      <th>Delhi</th>\n",
       "      <td>2324</td>\n",
       "    </tr>\n",
       "    <tr>\n",
       "      <th>Mumbai</th>\n",
       "      <td>3232</td>\n",
       "    </tr>\n",
       "  </tbody>\n",
       "</table>\n",
       "</div>"
      ],
      "text/plain": [
       "          val\n",
       "Chennai   223\n",
       "Trichy     34\n",
       "Madurai   324\n",
       "Delhi    2324\n",
       "Mumbai   3232"
      ]
     },
     "execution_count": 260,
     "metadata": {},
     "output_type": "execute_result"
    }
   ],
   "source": [
    "pd.DataFrame(ar,columns=['val'])"
   ]
  },
  {
   "cell_type": "code",
   "execution_count": 262,
   "id": "d90a463f",
   "metadata": {},
   "outputs": [
    {
     "data": {
      "text/html": [
       "<div>\n",
       "<style scoped>\n",
       "    .dataframe tbody tr th:only-of-type {\n",
       "        vertical-align: middle;\n",
       "    }\n",
       "\n",
       "    .dataframe tbody tr th {\n",
       "        vertical-align: top;\n",
       "    }\n",
       "\n",
       "    .dataframe thead th {\n",
       "        text-align: right;\n",
       "    }\n",
       "</style>\n",
       "<table border=\"1\" class=\"dataframe\">\n",
       "  <thead>\n",
       "    <tr style=\"text-align: right;\">\n",
       "      <th></th>\n",
       "      <th>Chennai</th>\n",
       "      <th>Trichy</th>\n",
       "      <th>Madurai</th>\n",
       "      <th>Delhi</th>\n",
       "      <th>Mumbai</th>\n",
       "      <th>a1</th>\n",
       "      <th>a2</th>\n",
       "      <th>a3</th>\n",
       "    </tr>\n",
       "  </thead>\n",
       "  <tbody>\n",
       "    <tr>\n",
       "      <th>0</th>\n",
       "      <td>223.0</td>\n",
       "      <td>34.0</td>\n",
       "      <td>324.0</td>\n",
       "      <td>2324.0</td>\n",
       "      <td>3232.0</td>\n",
       "      <td>NaN</td>\n",
       "      <td>NaN</td>\n",
       "      <td>NaN</td>\n",
       "    </tr>\n",
       "    <tr>\n",
       "      <th>1</th>\n",
       "      <td>NaN</td>\n",
       "      <td>NaN</td>\n",
       "      <td>NaN</td>\n",
       "      <td>NaN</td>\n",
       "      <td>NaN</td>\n",
       "      <td>1.0</td>\n",
       "      <td>2.0</td>\n",
       "      <td>23.0</td>\n",
       "    </tr>\n",
       "  </tbody>\n",
       "</table>\n",
       "</div>"
      ],
      "text/plain": [
       "   Chennai  Trichy  Madurai   Delhi  Mumbai   a1   a2    a3\n",
       "0    223.0    34.0    324.0  2324.0  3232.0  NaN  NaN   NaN\n",
       "1      NaN     NaN      NaN     NaN     NaN  1.0  2.0  23.0"
      ]
     },
     "execution_count": 262,
     "metadata": {},
     "output_type": "execute_result"
    }
   ],
   "source": [
    "pd.DataFrame([tstdict,dictionary])"
   ]
  },
  {
   "cell_type": "code",
   "execution_count": 264,
   "id": "0cc8ca24",
   "metadata": {},
   "outputs": [
    {
     "data": {
      "text/plain": [
       "Index(['val'], dtype='object')"
      ]
     },
     "execution_count": 264,
     "metadata": {},
     "output_type": "execute_result"
    }
   ],
   "source": [
    "df.keys()"
   ]
  },
  {
   "cell_type": "code",
   "execution_count": 274,
   "id": "11477da7",
   "metadata": {
    "collapsed": true
   },
   "outputs": [
    {
     "data": {
      "image/png": "[encoded data removed]",
      "text/plain": [
       "<Figure size 432x432 with 64 Axes>"
      ]
     },
     "metadata": {},
     "output_type": "display_data"
    }
   ],
   "source": [
    "from sklearn.datasets import load_digits\n",
    "digits=load_digits(n_class=10)\n",
    "import matplotlib.pyplot as plt\n",
    "f,x=plt.subplots(8,8,figsize=(6,6))\n",
    "for i,a in enumerate(x.flat):\n",
    "    a.imshow(digits.images[i],cmap='binary')\n",
    "    a.set(xticks=[],yticks=[])"
   ]
  },
  {
   "cell_type": "code",
   "execution_count": 279,
   "id": "de0aead8",
   "metadata": {},
   "outputs": [
    {
     "data": {
      "text/html": [
       "<div>\n",
       "<style scoped>\n",
       "    .dataframe tbody tr th:only-of-type {\n",
       "        vertical-align: middle;\n",
       "    }\n",
       "\n",
       "    .dataframe tbody tr th {\n",
       "        vertical-align: top;\n",
       "    }\n",
       "\n",
       "    .dataframe thead th {\n",
       "        text-align: right;\n",
       "    }\n",
       "</style>\n",
       "<table border=\"1\" class=\"dataframe\">\n",
       "  <thead>\n",
       "    <tr style=\"text-align: right;\">\n",
       "      <th></th>\n",
       "      <th>val</th>\n",
       "    </tr>\n",
       "  </thead>\n",
       "  <tbody>\n",
       "    <tr>\n",
       "      <th>Chennai</th>\n",
       "      <td>223</td>\n",
       "    </tr>\n",
       "    <tr>\n",
       "      <th>Madurai</th>\n",
       "      <td>324</td>\n",
       "    </tr>\n",
       "  </tbody>\n",
       "</table>\n",
       "</div>"
      ],
      "text/plain": [
       "         val\n",
       "Chennai  223\n",
       "Madurai  324"
      ]
     },
     "execution_count": 279,
     "metadata": {},
     "output_type": "execute_result"
    }
   ],
   "source": [
    "df[(df['val']>200) & (df['val']<2000)]"
   ]
  },
  {
   "cell_type": "code",
   "execution_count": 294,
   "id": "e6f25551",
   "metadata": {},
   "outputs": [
    {
     "name": "stderr",
     "output_type": "stream",
     "text": [
      "C:\\Users\\Admin\\AppData\\Local\\Temp\\ipykernel_7060\\2013225798.py:5: FutureWarning:\n",
      "\n",
      "The frame.append method is deprecated and will be removed from pandas in a future version. Use pandas.concat instead.\n",
      "\n"
     ]
    },
    {
     "data": {
      "text/html": [
       "<div>\n",
       "<style scoped>\n",
       "    .dataframe tbody tr th:only-of-type {\n",
       "        vertical-align: middle;\n",
       "    }\n",
       "\n",
       "    .dataframe tbody tr th {\n",
       "        vertical-align: top;\n",
       "    }\n",
       "\n",
       "    .dataframe thead th {\n",
       "        text-align: right;\n",
       "    }\n",
       "</style>\n",
       "<table border=\"1\" class=\"dataframe\">\n",
       "  <thead>\n",
       "    <tr style=\"text-align: right;\">\n",
       "      <th></th>\n",
       "      <th>sample</th>\n",
       "      <th>drink</th>\n",
       "    </tr>\n",
       "  </thead>\n",
       "  <tbody>\n",
       "    <tr>\n",
       "      <th>0</th>\n",
       "      <td>a</td>\n",
       "      <td>milk</td>\n",
       "    </tr>\n",
       "    <tr>\n",
       "      <th>1</th>\n",
       "      <td>b</td>\n",
       "      <td>coffee</td>\n",
       "    </tr>\n",
       "    <tr>\n",
       "      <th>2</th>\n",
       "      <td>d</td>\n",
       "      <td>tea</td>\n",
       "    </tr>\n",
       "    <tr>\n",
       "      <th>3</th>\n",
       "      <td>a</td>\n",
       "      <td>milk</td>\n",
       "    </tr>\n",
       "    <tr>\n",
       "      <th>4</th>\n",
       "      <td>b</td>\n",
       "      <td>coffee</td>\n",
       "    </tr>\n",
       "    <tr>\n",
       "      <th>5</th>\n",
       "      <td>d</td>\n",
       "      <td>tea</td>\n",
       "    </tr>\n",
       "  </tbody>\n",
       "</table>\n",
       "</div>"
      ],
      "text/plain": [
       "  sample   drink\n",
       "0      a    milk\n",
       "1      b  coffee\n",
       "2      d     tea\n",
       "3      a    milk\n",
       "4      b  coffee\n",
       "5      d     tea"
      ]
     },
     "execution_count": 294,
     "metadata": {},
     "output_type": "execute_result"
    }
   ],
   "source": [
    "d1={\"name\":['a','b','c'],\"food\":['apple','orange','banana']}\n",
    "d2={\"sample\":['a','b','d'],\"drink\":[\"milk\",\"coffee\",\"tea\"]}\n",
    "df1=pd.DataFrame(d1)\n",
    "df2=pd.DataFrame(d2)\n",
    "df2.append(df2,ignore_index=True)"
   ]
  },
  {
   "cell_type": "code",
   "execution_count": 309,
   "id": "7042f48b",
   "metadata": {},
   "outputs": [
    {
     "data": {
      "text/html": [
       "<div>\n",
       "<style scoped>\n",
       "    .dataframe tbody tr th:only-of-type {\n",
       "        vertical-align: middle;\n",
       "    }\n",
       "\n",
       "    .dataframe tbody tr th {\n",
       "        vertical-align: top;\n",
       "    }\n",
       "\n",
       "    .dataframe thead th {\n",
       "        text-align: right;\n",
       "    }\n",
       "</style>\n",
       "<table border=\"1\" class=\"dataframe\">\n",
       "  <thead>\n",
       "    <tr style=\"text-align: right;\">\n",
       "      <th></th>\n",
       "      <th>name</th>\n",
       "      <th>food</th>\n",
       "      <th>sample</th>\n",
       "      <th>drink</th>\n",
       "    </tr>\n",
       "  </thead>\n",
       "  <tbody>\n",
       "    <tr>\n",
       "      <th>0</th>\n",
       "      <td>a</td>\n",
       "      <td>apple</td>\n",
       "      <td>a</td>\n",
       "      <td>milk</td>\n",
       "    </tr>\n",
       "    <tr>\n",
       "      <th>1</th>\n",
       "      <td>b</td>\n",
       "      <td>orange</td>\n",
       "      <td>b</td>\n",
       "      <td>coffee</td>\n",
       "    </tr>\n",
       "  </tbody>\n",
       "</table>\n",
       "</div>"
      ],
      "text/plain": [
       "  name    food sample   drink\n",
       "0    a   apple      a    milk\n",
       "1    b  orange      b  coffee"
      ]
     },
     "execution_count": 309,
     "metadata": {},
     "output_type": "execute_result"
    }
   ],
   "source": [
    "pd.merge(left=df1,right=df2,how='inner',left_on=\"name\",right_on='sample')"
   ]
  },
  {
   "cell_type": "code",
   "execution_count": 324,
   "id": "8a54278f",
   "metadata": {},
   "outputs": [
    {
     "data": {
      "text/html": [
       "<div>\n",
       "<style scoped>\n",
       "    .dataframe tbody tr th:only-of-type {\n",
       "        vertical-align: middle;\n",
       "    }\n",
       "\n",
       "    .dataframe tbody tr th {\n",
       "        vertical-align: top;\n",
       "    }\n",
       "\n",
       "    .dataframe thead th {\n",
       "        text-align: right;\n",
       "    }\n",
       "</style>\n",
       "<table border=\"1\" class=\"dataframe\">\n",
       "  <thead>\n",
       "    <tr style=\"text-align: right;\">\n",
       "      <th></th>\n",
       "      <th>val</th>\n",
       "    </tr>\n",
       "  </thead>\n",
       "  <tbody>\n",
       "    <tr>\n",
       "      <th>Chennai</th>\n",
       "      <td>223</td>\n",
       "    </tr>\n",
       "    <tr>\n",
       "      <th>Madurai</th>\n",
       "      <td>324</td>\n",
       "    </tr>\n",
       "    <tr>\n",
       "      <th>Delhi</th>\n",
       "      <td>2324</td>\n",
       "    </tr>\n",
       "    <tr>\n",
       "      <th>Mumbai</th>\n",
       "      <td>3232</td>\n",
       "    </tr>\n",
       "  </tbody>\n",
       "</table>\n",
       "</div>"
      ],
      "text/plain": [
       "          val\n",
       "Chennai   223\n",
       "Madurai   324\n",
       "Delhi    2324\n",
       "Mumbai   3232"
      ]
     },
     "execution_count": 324,
     "metadata": {},
     "output_type": "execute_result"
    }
   ],
   "source": [
    "df.loc[df.val>200,['val']] #fancy indexing"
   ]
  },
  {
   "cell_type": "code",
   "execution_count": 327,
   "id": "c3e4ed71",
   "metadata": {},
   "outputs": [],
   "source": [
    "dat={'a':1,'b':2,'c':np.nan,'d':3}"
   ]
  },
  {
   "cell_type": "code",
   "execution_count": 337,
   "id": "c7cef3d7",
   "metadata": {},
   "outputs": [
    {
     "data": {
      "text/html": [
       "<div>\n",
       "<style scoped>\n",
       "    .dataframe tbody tr th:only-of-type {\n",
       "        vertical-align: middle;\n",
       "    }\n",
       "\n",
       "    .dataframe tbody tr th {\n",
       "        vertical-align: top;\n",
       "    }\n",
       "\n",
       "    .dataframe thead th {\n",
       "        text-align: right;\n",
       "    }\n",
       "</style>\n",
       "<table border=\"1\" class=\"dataframe\">\n",
       "  <thead>\n",
       "    <tr style=\"text-align: right;\">\n",
       "      <th></th>\n",
       "      <th>0</th>\n",
       "      <th>dd</th>\n",
       "    </tr>\n",
       "  </thead>\n",
       "  <tbody>\n",
       "    <tr>\n",
       "      <th>a</th>\n",
       "      <td>1.0</td>\n",
       "      <td>1</td>\n",
       "    </tr>\n",
       "    <tr>\n",
       "      <th>b</th>\n",
       "      <td>2.0</td>\n",
       "      <td>1</td>\n",
       "    </tr>\n",
       "    <tr>\n",
       "      <th>c</th>\n",
       "      <td>NaN</td>\n",
       "      <td>1</td>\n",
       "    </tr>\n",
       "    <tr>\n",
       "      <th>d</th>\n",
       "      <td>3.0</td>\n",
       "      <td>1</td>\n",
       "    </tr>\n",
       "  </tbody>\n",
       "</table>\n",
       "</div>"
      ],
      "text/plain": [
       "     0  dd\n",
       "a  1.0   1\n",
       "b  2.0   1\n",
       "c  NaN   1\n",
       "d  3.0   1"
      ]
     },
     "execution_count": 337,
     "metadata": {},
     "output_type": "execute_result"
    }
   ],
   "source": [
    "sp=pd.Series(dat)\n",
    "\n",
    "ss=pd.DataFrame(sp)\n",
    "ss.fillna(method='ffill')\n",
    "ss['dd']=1\n",
    "ss"
   ]
  },
  {
   "cell_type": "markdown",
   "id": "dde16c72",
   "metadata": {},
   "source": [
    "### Data Imputation"
   ]
  },
  {
   "cell_type": "code",
   "execution_count": 338,
   "id": "96adca39",
   "metadata": {},
   "outputs": [],
   "source": [
    "from sklearn.impute  import SimpleImputer as si\n",
    "from sklearn.impute import KNNImputer as knn"
   ]
  },
  {
   "cell_type": "code",
   "execution_count": 351,
   "id": "c0899353",
   "metadata": {},
   "outputs": [
    {
     "name": "stderr",
     "output_type": "stream",
     "text": [
      "E:\\anaconda\\lib\\site-packages\\sklearn\\impute\\_base.py:49: FutureWarning:\n",
      "\n",
      "Unlike other reduction functions (e.g. `skew`, `kurtosis`), the default behavior of `mode` typically preserves the axis it acts along. In SciPy 1.11.0, this behavior will change: the default value of `keepdims` will become False, the `axis` over which the statistic is taken will be eliminated, and the value None will no longer be accepted. Set `keepdims` to True or False to avoid this warning.\n",
      "\n"
     ]
    },
    {
     "data": {
      "text/plain": [
       "array([[1., 2., 3.],\n",
       "       [3., 2., 3.],\n",
       "       [1., 3., 5.]])"
      ]
     },
     "execution_count": 351,
     "metadata": {},
     "output_type": "execute_result"
    }
   ],
   "source": [
    "imp=si(missing_values=np.nan,strategy='most_frequent')\n",
    "x=np.array([[1,2,np.nan],[3,np.nan,3],[np.nan,3,5]])\n",
    "\n",
    "x=x.reshape((3,3))\n",
    "imp.fit_transform(x)"
   ]
  },
  {
   "cell_type": "code",
   "execution_count": 352,
   "id": "db0fdd2c",
   "metadata": {},
   "outputs": [],
   "source": [
    "X=[[3,4,5,6],[4,6,8,4],[np.nan,4,np.nan,6],[3,np.nan,4,np.nan]]"
   ]
  },
  {
   "cell_type": "code",
   "execution_count": 359,
   "id": "002a6c3f",
   "metadata": {},
   "outputs": [],
   "source": [
    "ii=knn(n_neighbors=2)\n",
    "x=ii.fit_transform(X)"
   ]
  },
  {
   "cell_type": "markdown",
   "id": "787713f3",
   "metadata": {},
   "source": [
    "#### Feature Scaling  \n"
   ]
  },
  {
   "cell_type": "code",
   "execution_count": 365,
   "id": "68ec574f",
   "metadata": {},
   "outputs": [],
   "source": [
    "from sklearn.preprocessing import MaxAbsScaler,MinMaxScaler,StandardScaler"
   ]
  },
  {
   "cell_type": "code",
   "execution_count": 360,
   "id": "c593fb04",
   "metadata": {},
   "outputs": [
    {
     "data": {
      "text/plain": [
       "array([[0.75      , 0.66666667, 0.625     , 1.        ],\n",
       "       [1.        , 1.        , 1.        , 0.66666667],\n",
       "       [0.875     , 0.66666667, 0.8125    , 1.        ],\n",
       "       [0.75      , 0.83333333, 0.5       , 0.83333333]])"
      ]
     },
     "execution_count": 360,
     "metadata": {},
     "output_type": "execute_result"
    }
   ],
   "source": [
    "X1=MaxAbsScaler().fit_transform(x)\n",
    "X1"
   ]
  },
  {
   "cell_type": "code",
   "execution_count": 362,
   "id": "88acbe85",
   "metadata": {},
   "outputs": [
    {
     "data": {
      "text/plain": [
       "array([[0.   , 0.   , 0.25 , 1.   ],\n",
       "       [1.   , 1.   , 1.   , 0.   ],\n",
       "       [0.5  , 0.   , 0.625, 1.   ],\n",
       "       [0.   , 0.5  , 0.   , 0.5  ]])"
      ]
     },
     "execution_count": 362,
     "metadata": {},
     "output_type": "execute_result"
    }
   ],
   "source": [
    "x2=MinMaxScaler().fit_transform(x)\n",
    "\n",
    "x2"
   ]
  },
  {
   "cell_type": "code",
   "execution_count": 366,
   "id": "c7c835e4",
   "metadata": {},
   "outputs": [
    {
     "data": {
      "text/plain": [
       "array([[-0.90453403, -0.90453403, -0.57735027,  0.90453403],\n",
       "       [ 1.50755672,  1.50755672,  1.40213637, -1.50755672],\n",
       "       [ 0.30151134, -0.90453403,  0.41239305,  0.90453403],\n",
       "       [-0.90453403,  0.30151134, -1.23717915, -0.30151134]])"
      ]
     },
     "execution_count": 366,
     "metadata": {},
     "output_type": "execute_result"
    }
   ],
   "source": [
    "#standardization\n",
    "StandardScaler().fit_transform(X1)"
   ]
  },
  {
   "cell_type": "code",
   "execution_count": null,
   "id": "85c2f936",
   "metadata": {},
   "outputs": [],
   "source": []
  }
 ],
 "metadata": {
  "kernelspec": {
   "display_name": "Python 3 (ipykernel)",
   "language": "python",
   "name": "python3"
  },
  "language_info": {
   "codemirror_mode": {
    "name": "ipython",
    "version": 3
   },
   "file_extension": ".py",
   "mimetype": "text/x-python",
   "name": "python",
   "nbconvert_exporter": "python",
   "pygments_lexer": "ipython3",
   "version": "3.9.13"
  }
 },
 "nbformat": 4,
 "nbformat_minor": 5
}
