{
 "cells": [
  {
   "cell_type": "markdown",
   "id": "5a5d2011",
   "metadata": {},
   "source": [
    "### Pandas "
   ]
  },
  {
   "cell_type": "code",
   "execution_count": null,
   "id": "19a215c1",
   "metadata": {},
   "outputs": [],
   "source": [
    "import pandas as p"
   ]
  },
  {
   "cell_type": "code",
   "execution_count": null,
   "id": "7b6fc37e",
   "metadata": {},
   "outputs": [],
   "source": [
    "#One dimensional series \n",
    "    s=p.Series([1,2,3,3,4,5,6])"
   ]
  },
  {
   "cell_type": "code",
   "execution_count": null,
   "id": "5c1be8f0",
   "metadata": {},
   "outputs": [],
   "source": [
    "s"
   ]
  },
  {
   "cell_type": "code",
   "execution_count": null,
   "id": "8fa4e83d",
   "metadata": {},
   "outputs": [],
   "source": [
    "s[s>3]"
   ]
  },
  {
   "cell_type": "code",
   "execution_count": null,
   "id": "757a9016",
   "metadata": {},
   "outputs": [],
   "source": [
    "#dictionary:\n",
    "d={\"a\":1,\"b\":2,\"c\":3}\n",
    "ds=p.Series(d)        # typecast to python series\n",
    "ds"
   ]
  },
  {
   "cell_type": "code",
   "execution_count": null,
   "id": "f3e2640d",
   "metadata": {},
   "outputs": [],
   "source": [
    "#index series values with internal and external indexing  ...\n",
    "#both ds[0] and ds[\"a\"] are allowed\n",
    "ds[0]"
   ]
  },
  {
   "cell_type": "code",
   "execution_count": null,
   "id": "e872bb20",
   "metadata": {},
   "outputs": [],
   "source": [
    "d2={\"a\":[1,2,3],\"b\":[2,3,4],\"c\":[5,6,7]}\n",
    "sd2=p.Series(d2)\n",
    "sd2"
   ]
  },
  {
   "cell_type": "code",
   "execution_count": null,
   "id": "ed548f5f",
   "metadata": {},
   "outputs": [],
   "source": [
    "#dataframes.. keys become  column names ..\n",
    "dfd2=p.DataFrame(d2)\n",
    "#select val with column 'a'\n",
    "dfd2['a'] \n",
    "#dfd2[0] not allowed \n"
   ]
  },
  {
   "cell_type": "code",
   "execution_count": null,
   "id": "0f631ba6",
   "metadata": {},
   "outputs": [],
   "source": [
    "dfd2.columns  #print list of columns.."
   ]
  },
  {
   "cell_type": "code",
   "execution_count": null,
   "id": "b1a3c2d7",
   "metadata": {},
   "outputs": [],
   "source": [
    "dfd2.iloc[0,0]#integer locations ..."
   ]
  },
  {
   "cell_type": "code",
   "execution_count": null,
   "id": "4ef2a56e",
   "metadata": {},
   "outputs": [],
   "source": [
    "#index using location...\n",
    "dfd2.loc[0,\"a\"]  #2nd attrib name of column \n"
   ]
  },
  {
   "cell_type": "code",
   "execution_count": null,
   "id": "3197f6f4",
   "metadata": {},
   "outputs": [],
   "source": [
    "#selecting first two rows and columns;.\n",
    "dfd2.iloc[0:2,0:2]"
   ]
  },
  {
   "cell_type": "code",
   "execution_count": null,
   "id": "cda6198a",
   "metadata": {},
   "outputs": [],
   "source": [
    "d3={\"a\":[1,2,3],\"b\":[2,3,4]}\n",
    "pdd3=p.DataFrame(d3)\n",
    "pdd3"
   ]
  },
  {
   "cell_type": "code",
   "execution_count": null,
   "id": "b34012c2",
   "metadata": {},
   "outputs": [],
   "source": [
    "#Missing values will be as NaN -Not A Number..\n",
    "#while appending index do not change ..just append occours to avert the same use ignore_index flag as arguement to reset index\n",
    "df4=pdd3.append(dfd2,ignore_index=True)\n",
    "df4"
   ]
  },
  {
   "cell_type": "code",
   "execution_count": null,
   "id": "6c5516b8",
   "metadata": {},
   "outputs": [],
   "source": [
    "df4.info()      #Information about dataframe ."
   ]
  },
  {
   "cell_type": "code",
   "execution_count": null,
   "id": "0ecab90b",
   "metadata": {},
   "outputs": [],
   "source": [
    "df4.loc[0,'a']"
   ]
  },
  {
   "cell_type": "code",
   "execution_count": null,
   "id": "b10542dd",
   "metadata": {},
   "outputs": [],
   "source": [
    "d1={\"name\":['a','b','c'],\"food\":['apple','orange','banana']}\n",
    "d2={\"sample\":['a','b','d'],\"drink\":[\"milk\",\"coffee\",\"tea\"]}\n",
    "dfd1=p.DataFrame(d1)\n",
    "dfd2=p.DataFrame(d2)\n",
    "dfd1"
   ]
  },
  {
   "cell_type": "code",
   "execution_count": null,
   "id": "46ed9a7c",
   "metadata": {},
   "outputs": [],
   "source": [
    "p.merge(dfd1,dfd2,how=\"inner\",left_on=\"name\",right_on='sample') #ARG  1 left table 2,Righttable . 3 how =inner(default ),"
   ]
  },
  {
   "cell_type": "code",
   "execution_count": null,
   "id": "7b8ef766",
   "metadata": {},
   "outputs": [],
   "source": [
    "p.merge(dfd1,dfd2,how=\"right\")"
   ]
  },
  {
   "cell_type": "code",
   "execution_count": null,
   "id": "44f8f882",
   "metadata": {},
   "outputs": [],
   "source": [
    "#arg  on -> on which column to perform join  ..\n",
    "p.merge(dfd1,dfd2,how=\"right\",on=\"name\")"
   ]
  },
  {
   "cell_type": "code",
   "execution_count": null,
   "id": "8a2521ff",
   "metadata": {},
   "outputs": [],
   "source": [
    "p.merge(dfd1,dfd2,left_on=\"name\",right_on='sample')# indicate both different columnn names consist of same value /.."
   ]
  }
 ],
 "metadata": {
  "kernelspec": {
   "display_name": "Python 3 (ipykernel)",
   "language": "python",
   "name": "python3"
  },
  "language_info": {
   "codemirror_mode": {
    "name": "ipython",
    "version": 3
   },
   "file_extension": ".py",
   "mimetype": "text/x-python",
   "name": "python",
   "nbconvert_exporter": "python",
   "pygments_lexer": "ipython3",
   "version": "3.9.13"
  }
 },
 "nbformat": 4,
 "nbformat_minor": 5
}
