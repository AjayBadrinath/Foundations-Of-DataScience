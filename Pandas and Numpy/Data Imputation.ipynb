{
 "cells": [
  {
   "cell_type": "code",
   "execution_count": 13,
   "id": "d3faf15e",
   "metadata": {},
   "outputs": [],
   "source": [
    "#imports \n",
    "import numpy as np\n",
    "from sklearn.impute import SimpleImputer as s\n",
    "from sklearn.impute import KNNImputer as knn"
   ]
  },
  {
   "cell_type": "markdown",
   "id": "604d1077",
   "metadata": {},
   "source": [
    "### Simple Imputer"
   ]
  },
  {
   "cell_type": "code",
   "execution_count": 7,
   "id": "fbcd3515",
   "metadata": {},
   "outputs": [
    {
     "data": {
      "text/plain": [
       "array([[1. , 2. , 3. ],\n",
       "       [2. , 2. , 2. ],\n",
       "       [3. , 2. , 2.5]])"
      ]
     },
     "execution_count": 7,
     "metadata": {},
     "output_type": "execute_result"
    }
   ],
   "source": [
    "imp=s(missing_values=np.nan,strategy=\"mean\")\n",
    "k=imp.fit_transform([[1,2,3],[np.nan,np.nan,2],[3,np.nan,np.nan]])\n",
    "k   # Filled the nan values into mean of cols,\n",
    "    #fit_transform  Apply SimpleImputer() to matrix and transform destinantion matrix;\n"
   ]
  },
  {
   "cell_type": "code",
   "execution_count": 10,
   "id": "caa6d9c2",
   "metadata": {},
   "outputs": [
    {
     "data": {
      "text/plain": [
       "array([[1. , 2. , 3. ],\n",
       "       [2. , 2. , 2. ],\n",
       "       [3. , 2. , 2.5]])"
      ]
     },
     "execution_count": 10,
     "metadata": {},
     "output_type": "execute_result"
    }
   ],
   "source": [
    "#similar method to fit and transform;\n",
    "k1=imp.fit([[1,2,3],[np.nan,np.nan,2],[3,np.nan,np.nan]])\n",
    "imp.transform([[1,2,3],[np.nan,np.nan,2],[3,np.nan,np.nan]])"
   ]
  },
  {
   "cell_type": "code",
   "execution_count": 12,
   "id": "9fdce2b9",
   "metadata": {},
   "outputs": [
    {
     "data": {
      "text/plain": [
       "array([[1. , 2. , 3. ],\n",
       "       [2. , 2. , 2. ],\n",
       "       [3. , 2. , 2.5]])"
      ]
     },
     "execution_count": 12,
     "metadata": {},
     "output_type": "execute_result"
    }
   ],
   "source": [
    "imp1=s(missing_values=np.nan,strategy=\"most_frequent\")\n",
    "k4=imp.fit_transform([[1,2,3],[np.nan,np.nan,2],[3,np.nan,np.nan]])\n",
    "k4"
   ]
  },
  {
   "cell_type": "markdown",
   "id": "300c149b",
   "metadata": {},
   "source": [
    "### KNN Imputer  (Fill Missing Values Using the nearest neighbour values mean )"
   ]
  },
  {
   "cell_type": "code",
   "execution_count": 14,
   "id": "15a1d8a1",
   "metadata": {},
   "outputs": [
    {
     "data": {
      "text/plain": [
       "array([[3. , 4. , 5. , 6. ],\n",
       "       [4. , 6. , 8. , 4. ],\n",
       "       [3.5, 4. , 6.5, 6. ],\n",
       "       [3. , 5. , 4. , 5. ]])"
      ]
     },
     "execution_count": 14,
     "metadata": {},
     "output_type": "execute_result"
    }
   ],
   "source": [
    "X=[[3,4,5,6],[4,6,8,4],[np.nan,4,np.nan,6],[3,np.nan,4,np.nan]]\n",
    "imputer=knn(n_neighbors=2)\n",
    "imputer.fit_transform(X)"
   ]
  }
 ],
 "metadata": {
  "kernelspec": {
   "display_name": "Python 3 (ipykernel)",
   "language": "python",
   "name": "python3"
  },
  "language_info": {
   "codemirror_mode": {
    "name": "ipython",
    "version": 3
   },
   "file_extension": ".py",
   "mimetype": "text/x-python",
   "name": "python",
   "nbconvert_exporter": "python",
   "pygments_lexer": "ipython3",
   "version": "3.9.13"
  }
 },
 "nbformat": 4,
 "nbformat_minor": 5
}
