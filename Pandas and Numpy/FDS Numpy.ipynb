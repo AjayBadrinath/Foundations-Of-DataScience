{
 "cells": [
  {
   "cell_type": "markdown",
   "id": "03a2db78",
   "metadata": {},
   "source": [
    "#### Numpy  Introductory Class"
   ]
  },
  {
   "cell_type": "code",
   "execution_count": 1,
   "id": "39bd6b67",
   "metadata": {},
   "outputs": [],
   "source": [
    "lst=[44.6,56,3]"
   ]
  },
  {
   "cell_type": "code",
   "execution_count": 45,
   "id": "13da57a0",
   "metadata": {},
   "outputs": [],
   "source": [
    "import numpy as n"
   ]
  },
  {
   "cell_type": "code",
   "execution_count": 26,
   "id": "043ed3d8",
   "metadata": {
    "collapsed": true
   },
   "outputs": [
    {
     "data": {
      "text/plain": [
       "1"
      ]
     },
     "execution_count": 26,
     "metadata": {},
     "output_type": "execute_result"
    }
   ],
   "source": [
    "n_arr=n.array(lst)\n",
    "type(n_arr)\n",
    "n_arr.ndim"
   ]
  },
  {
   "cell_type": "code",
   "execution_count": 14,
   "id": "6dfac836",
   "metadata": {
    "collapsed": true
   },
   "outputs": [
    {
     "data": {
      "text/plain": [
       "2"
      ]
     },
     "execution_count": 14,
     "metadata": {},
     "output_type": "execute_result"
    }
   ],
   "source": [
    "#numpy arrays are homogeneous\n",
    "twod=[\n",
    "    [1,2,4],\n",
    "    [4,5,6],\n",
    "    [5,6,7]\n",
    "]\n",
    "np_twod=n.array(twod)\n",
    "np_twod.ndim\n"
   ]
  },
  {
   "cell_type": "code",
   "execution_count": 13,
   "id": "abfe5524",
   "metadata": {
    "collapsed": true
   },
   "outputs": [
    {
     "data": {
      "text/plain": [
       "(3, 3)"
      ]
     },
     "execution_count": 13,
     "metadata": {},
     "output_type": "execute_result"
    }
   ],
   "source": [
    "np_twod.shape"
   ]
  },
  {
   "cell_type": "code",
   "execution_count": 21,
   "id": "508b37a7",
   "metadata": {
    "collapsed": true
   },
   "outputs": [
    {
     "name": "stdout",
     "output_type": "stream",
     "text": [
      "[[2 3 5]\n",
      " [5 6 7]\n",
      " [6 7 8]]\n"
     ]
    }
   ],
   "source": [
    "#vectorised numpy operation\n",
    "print(np_twod+1)"
   ]
  },
  {
   "cell_type": "code",
   "execution_count": 24,
   "id": "c2e06805",
   "metadata": {
    "collapsed": true
   },
   "outputs": [
    {
     "name": "stdout",
     "output_type": "stream",
     "text": [
      "[[ 3  6 12]\n",
      " [12 15 18]\n",
      " [15 18 21]]\n"
     ]
    }
   ],
   "source": [
    "print(np_twod*3)"
   ]
  },
  {
   "cell_type": "code",
   "execution_count": 29,
   "id": "eac3815e",
   "metadata": {
    "collapsed": true
   },
   "outputs": [
    {
     "data": {
      "text/plain": [
       "numpy.int32"
      ]
     },
     "execution_count": 29,
     "metadata": {},
     "output_type": "execute_result"
    }
   ],
   "source": [
    "type(np_twod[0][0])"
   ]
  },
  {
   "cell_type": "code",
   "execution_count": 42,
   "id": "814b22f9",
   "metadata": {},
   "outputs": [],
   "source": [
    "q=n_arr+3.4"
   ]
  },
  {
   "cell_type": "code",
   "execution_count": 35,
   "id": "26eacfdc",
   "metadata": {
    "collapsed": true
   },
   "outputs": [
    {
     "data": {
      "text/plain": [
       "numpy.float64"
      ]
     },
     "execution_count": 35,
     "metadata": {},
     "output_type": "execute_result"
    }
   ],
   "source": [
    "type(n[0])"
   ]
  },
  {
   "cell_type": "code",
   "execution_count": 44,
   "id": "8496bc88",
   "metadata": {
    "collapsed": true
   },
   "outputs": [
    {
     "data": {
      "text/plain": [
       "array([[49. , 61.4, 10.4],\n",
       "       [52. , 64.4, 12.4],\n",
       "       [53. , 65.4, 13.4]])"
      ]
     },
     "execution_count": 44,
     "metadata": {},
     "output_type": "execute_result"
    }
   ],
   "source": [
    "#Addition of two arrays where they are of different size /length  is not possible\n",
    "n+np_twod"
   ]
  },
  {
   "cell_type": "code",
   "execution_count": 56,
   "id": "68ccd2e8",
   "metadata": {},
   "outputs": [],
   "source": [
    "#creating a zero arrray with datatypes int/float64\n",
    "a=n.zeros((3,3),dtype=int)\n",
    "#creating ones array with datatypes as args\n",
    "ones=n.ones((3,4),dtype=float)\n",
    "#creating a fill with int with number to fill as parameter\n",
    "fulls=n.full((4,5),5,dtype=int)"
   ]
  },
  {
   "cell_type": "code",
   "execution_count": 218,
   "id": "adcd1723",
   "metadata": {
    "collapsed": true
   },
   "outputs": [
    {
     "data": {
      "text/plain": [
       "array([[4, 9, 9, 5],\n",
       "       [7, 8, 7, 9],\n",
       "       [8, 6, 4, 5]])"
      ]
     },
     "execution_count": 218,
     "metadata": {},
     "output_type": "execute_result"
    }
   ],
   "source": [
    "#creating a random matrix with range and size as limit\n",
    "\n",
    "rand=n.random.randint(4,10,size=(3,4))\n",
    "rand\n",
    "\n",
    "\n"
   ]
  },
  {
   "cell_type": "code",
   "execution_count": 229,
   "id": "651f3236",
   "metadata": {},
   "outputs": [],
   "source": [
    "new_rand=n.full((3,4),n.random.randint(10))\n"
   ]
  },
  {
   "cell_type": "code",
   "execution_count": 234,
   "id": "6faa215d",
   "metadata": {
    "collapsed": true
   },
   "outputs": [
    {
     "data": {
      "text/plain": [
       "array([0, 1, 2, 3, 4, 5, 6, 7, 8])"
      ]
     },
     "execution_count": 234,
     "metadata": {},
     "output_type": "execute_result"
    }
   ],
   "source": [
    "#generate number within range with lower limit inclusive and upperlimit excluded(l_lim,up_lim,step_val)\n",
    "n.arange(0,9)"
   ]
  },
  {
   "cell_type": "markdown",
   "id": "25d13b7f",
   "metadata": {},
   "source": [
    "###### Boolean Indexing"
   ]
  },
  {
   "cell_type": "code",
   "execution_count": 257,
   "id": "d34d6bdf",
   "metadata": {
    "collapsed": true
   },
   "outputs": [
    {
     "data": {
      "text/plain": [
       "array([ 0,  1,  2,  3,  4, -5, -6, -7,  8])"
      ]
     },
     "execution_count": 257,
     "metadata": {},
     "output_type": "execute_result"
    }
   ],
   "source": [
    "k=n.arange(0,9)\n",
    "k>5 #Return a  boolean array \n",
    "#Return the element in the array  limit index element where boolean operators used  filter \n",
    "k[(k>4) & (k<8)]*=-1 \n",
    "k"
   ]
  },
  {
   "cell_type": "code",
   "execution_count": 2,
   "id": "8f169677",
   "metadata": {
    "collapsed": true
   },
   "outputs": [
    {
     "ename": "NameError",
     "evalue": "name 'n' is not defined",
     "output_type": "error",
     "traceback": [
      "\u001b[1;31m---------------------------------------------------------------------------\u001b[0m",
      "\u001b[1;31mNameError\u001b[0m                                 Traceback (most recent call last)",
      "Input \u001b[1;32mIn [2]\u001b[0m, in \u001b[0;36m<module>\u001b[1;34m\u001b[0m\n\u001b[0;32m      1\u001b[0m \u001b[38;5;66;03m#statistic helper functions\u001b[39;00m\n\u001b[0;32m      2\u001b[0m \u001b[38;5;66;03m#mean,median ,mode\u001b[39;00m\n\u001b[1;32m----> 3\u001b[0m l\u001b[38;5;241m=\u001b[39m\u001b[43mn\u001b[49m\u001b[38;5;241m.\u001b[39marange(\u001b[38;5;241m2\u001b[39m,\u001b[38;5;241m10\u001b[39m)\n\u001b[0;32m      4\u001b[0m \u001b[38;5;28mprint\u001b[39m(n\u001b[38;5;241m.\u001b[39mmean(l))\n\u001b[0;32m      5\u001b[0m \u001b[38;5;28mprint\u001b[39m(n\u001b[38;5;241m.\u001b[39mmedian(l))\n",
      "\u001b[1;31mNameError\u001b[0m: name 'n' is not defined"
     ]
    }
   ],
   "source": [
    "#statistic helper functions\n",
    "#mean,median ,mode\n",
    "l=n.arange(2,10)\n",
    "print(n.mean(l))\n",
    "print(n.median(l))\n",
    "print(n.std(l)) #standard deviation "
   ]
  },
  {
   "cell_type": "code",
   "execution_count": 4,
   "id": "476f8cde",
   "metadata": {
    "collapsed": true
   },
   "outputs": [
    {
     "ename": "NameError",
     "evalue": "name 'l' is not defined",
     "output_type": "error",
     "traceback": [
      "\u001b[1;31m---------------------------------------------------------------------------\u001b[0m",
      "\u001b[1;31mNameError\u001b[0m                                 Traceback (most recent call last)",
      "Input \u001b[1;32mIn [4]\u001b[0m, in \u001b[0;36m<module>\u001b[1;34m\u001b[0m\n\u001b[0;32m      1\u001b[0m \u001b[38;5;66;03m#convert 1d array to twod or n-k dim to n dim ->reshape\u001b[39;00m\n\u001b[1;32m----> 3\u001b[0m l2 \u001b[38;5;241m=\u001b[39m\u001b[43ml\u001b[49m\u001b[38;5;241m.\u001b[39mreshape(\u001b[38;5;241m2\u001b[39m,\u001b[38;5;241m4\u001b[39m)\n\u001b[0;32m      4\u001b[0m \u001b[38;5;28mprint\u001b[39m(l2)\n",
      "\u001b[1;31mNameError\u001b[0m: name 'l' is not defined"
     ]
    }
   ],
   "source": [
    "#convert 1d array to twod or n-k dim to n dim ->reshape\n",
    "\n",
    "l2 =l.reshape(2,4)\n",
    "print(l2)"
   ]
  },
  {
   "cell_type": "code",
   "execution_count": 273,
   "id": "07200c73",
   "metadata": {
    "collapsed": true
   },
   "outputs": [
    {
     "name": "stdout",
     "output_type": "stream",
     "text": [
      "[2 3 4 5 6 7 8 9]\n"
     ]
    }
   ],
   "source": [
    "#convert n dim to 1 dim  ->flatten\n",
    "print(l2.flatten())\n"
   ]
  },
  {
   "cell_type": "code",
   "execution_count": 3,
   "id": "4c107850",
   "metadata": {
    "collapsed": true
   },
   "outputs": [
    {
     "ename": "NameError",
     "evalue": "name 'l2' is not defined",
     "output_type": "error",
     "traceback": [
      "\u001b[1;31m---------------------------------------------------------------------------\u001b[0m",
      "\u001b[1;31mNameError\u001b[0m                                 Traceback (most recent call last)",
      "Input \u001b[1;32mIn [3]\u001b[0m, in \u001b[0;36m<module>\u001b[1;34m\u001b[0m\n\u001b[0;32m      1\u001b[0m \u001b[38;5;66;03m#find max /min\u001b[39;00m\n\u001b[1;32m----> 2\u001b[0m \u001b[38;5;28mprint\u001b[39m(\u001b[43ml2\u001b[49m\u001b[38;5;241m.\u001b[39mmax(),l2\u001b[38;5;241m.\u001b[39mmin())\n\u001b[0;32m      3\u001b[0m \u001b[38;5;66;03m#find max/min rowise axis=1\u001b[39;00m\n\u001b[0;32m      4\u001b[0m \u001b[38;5;28mprint\u001b[39m(l2\u001b[38;5;241m.\u001b[39mmin(axis\u001b[38;5;241m=\u001b[39m\u001b[38;5;241m0\u001b[39m))\n",
      "\u001b[1;31mNameError\u001b[0m: name 'l2' is not defined"
     ]
    }
   ],
   "source": [
    "#find max /min\n",
    "print(l2.max(),l2.min())\n",
    "#find max/min rowise axis=1\n",
    "print(l2.min(axis=0))\n",
    "#find max/min colwise axis =0\n",
    "n.headstack\n",
    "print(l2.max(axis=1))\n",
    "#find max/min using axis parameter"
   ]
  }
 ],
 "metadata": {
  "kernelspec": {
   "display_name": "Python 3 (ipykernel)",
   "language": "python",
   "name": "python3"
  },
  "language_info": {
   "codemirror_mode": {
    "name": "ipython",
    "version": 3
   },
   "file_extension": ".py",
   "mimetype": "text/x-python",
   "name": "python",
   "nbconvert_exporter": "python",
   "pygments_lexer": "ipython3",
   "version": "3.9.13"
  }
 },
 "nbformat": 4,
 "nbformat_minor": 5
}
