{
 "cells": [
  {
   "cell_type": "code",
   "execution_count": 25,
   "id": "44f2b43c",
   "metadata": {},
   "outputs": [],
   "source": [
    "import pandas as pd\n",
    "import numpy as np"
   ]
  },
  {
   "cell_type": "code",
   "execution_count": 2,
   "id": "c0bcb955",
   "metadata": {},
   "outputs": [],
   "source": [
    "data=pd.read_csv(\"ads.csv\")"
   ]
  },
  {
   "cell_type": "code",
   "execution_count": 3,
   "id": "a9472535",
   "metadata": {
    "collapsed": true
   },
   "outputs": [
    {
     "data": {
      "text/html": [
       "<div>\n",
       "<style scoped>\n",
       "    .dataframe tbody tr th:only-of-type {\n",
       "        vertical-align: middle;\n",
       "    }\n",
       "\n",
       "    .dataframe tbody tr th {\n",
       "        vertical-align: top;\n",
       "    }\n",
       "\n",
       "    .dataframe thead th {\n",
       "        text-align: right;\n",
       "    }\n",
       "</style>\n",
       "<table border=\"1\" class=\"dataframe\">\n",
       "  <thead>\n",
       "    <tr style=\"text-align: right;\">\n",
       "      <th></th>\n",
       "      <th>User ID</th>\n",
       "      <th>Age</th>\n",
       "      <th>EstimatedSalary</th>\n",
       "      <th>Purchased</th>\n",
       "    </tr>\n",
       "  </thead>\n",
       "  <tbody>\n",
       "    <tr>\n",
       "      <th>0</th>\n",
       "      <td>15624510</td>\n",
       "      <td>19</td>\n",
       "      <td>19000</td>\n",
       "      <td>0</td>\n",
       "    </tr>\n",
       "    <tr>\n",
       "      <th>1</th>\n",
       "      <td>15810944</td>\n",
       "      <td>35</td>\n",
       "      <td>20000</td>\n",
       "      <td>0</td>\n",
       "    </tr>\n",
       "    <tr>\n",
       "      <th>2</th>\n",
       "      <td>15668575</td>\n",
       "      <td>26</td>\n",
       "      <td>43000</td>\n",
       "      <td>0</td>\n",
       "    </tr>\n",
       "    <tr>\n",
       "      <th>3</th>\n",
       "      <td>15603246</td>\n",
       "      <td>27</td>\n",
       "      <td>57000</td>\n",
       "      <td>0</td>\n",
       "    </tr>\n",
       "    <tr>\n",
       "      <th>4</th>\n",
       "      <td>15804002</td>\n",
       "      <td>19</td>\n",
       "      <td>76000</td>\n",
       "      <td>0</td>\n",
       "    </tr>\n",
       "  </tbody>\n",
       "</table>\n",
       "</div>"
      ],
      "text/plain": [
       "    User ID  Age  EstimatedSalary  Purchased\n",
       "0  15624510   19            19000          0\n",
       "1  15810944   35            20000          0\n",
       "2  15668575   26            43000          0\n",
       "3  15603246   27            57000          0\n",
       "4  15804002   19            76000          0"
      ]
     },
     "execution_count": 3,
     "metadata": {},
     "output_type": "execute_result"
    }
   ],
   "source": [
    "data.head()"
   ]
  },
  {
   "cell_type": "code",
   "execution_count": 36,
   "id": "e39dee64",
   "metadata": {},
   "outputs": [],
   "source": [
    "data['new_col']=0      #Set the entire column as 0"
   ]
  },
  {
   "cell_type": "code",
   "execution_count": 37,
   "id": "241a29b5",
   "metadata": {},
   "outputs": [],
   "source": [
    "data=data.drop('new_col',axis=1)   #Column wise drop axis=1"
   ]
  },
  {
   "cell_type": "code",
   "execution_count": 17,
   "id": "892af239",
   "metadata": {},
   "outputs": [
    {
     "data": {
      "text/plain": [
       "18"
      ]
     },
     "execution_count": 17,
     "metadata": {},
     "output_type": "execute_result"
    }
   ],
   "source": [
    "min(data['Age'])"
   ]
  },
  {
   "cell_type": "markdown",
   "id": "cfbcbfd9",
   "metadata": {},
   "source": [
    "### Binning"
   ]
  },
  {
   "cell_type": "code",
   "execution_count": 38,
   "id": "aadc0967",
   "metadata": {},
   "outputs": [],
   "source": [
    "# Categorise based on continuous distribution\n",
    "data['age_cat']=pd.cut(data['Age'],bins=[17,30,45,60],labels=['Youth','Mid-Age','Adult'])   \n",
    "#Lower Limit Excluded so to include 18 we add 17\n",
    "#UpperLimit Inclusive."
   ]
  },
  {
   "cell_type": "markdown",
   "id": "bf6ad5ca",
   "metadata": {},
   "source": [
    "###### Label Encoding"
   ]
  },
  {
   "cell_type": "code",
   "execution_count": 19,
   "id": "d0278a76",
   "metadata": {
    "collapsed": true
   },
   "outputs": [
    {
     "data": {
      "text/plain": [
       "0      0\n",
       "1      1\n",
       "2      0\n",
       "3      0\n",
       "4      0\n",
       "      ..\n",
       "395    2\n",
       "396    2\n",
       "397    2\n",
       "398    1\n",
       "399    2\n",
       "Length: 400, dtype: int8"
      ]
     },
     "execution_count": 19,
     "metadata": {},
     "output_type": "execute_result"
    }
   ],
   "source": [
    "data['age_cat'].cat.codes   # Do the Label Encoding .."
   ]
  },
  {
   "cell_type": "markdown",
   "id": "5996ea29",
   "metadata": {},
   "source": [
    "##### One Hot Encoding"
   ]
  },
  {
   "cell_type": "code",
   "execution_count": 40,
   "id": "2d5cbb7f",
   "metadata": {},
   "outputs": [],
   "source": [
    "#Encoding -> Label Encoding (used in a hierarchical column,preserve hierarchy)\n",
    "#-> One hot encoding \n",
    "# convert youth=0,mid=1,adult=2\n",
    "# One Hot Encoding(No Hierarchy in a column[generic columns] produce n columns based on the distinct values in a column )\n",
    "# multi colinerarity -Features dependent on each other should not exist \n",
    "df=pd.get_dummies(data['age_cat'])   \n"
   ]
  },
  {
   "cell_type": "markdown",
   "id": "9667bdb7",
   "metadata": {},
   "source": [
    "###### Remove Multi-colinearity"
   ]
  },
  {
   "cell_type": "code",
   "execution_count": 39,
   "id": "f5aee74e",
   "metadata": {},
   "outputs": [],
   "source": [
    "# One hot encoding   drop_first removes multi colinerarity\n",
    "df=pd.get_dummies(data['age_cat'],drop_first=True)"
   ]
  },
  {
   "cell_type": "code",
   "execution_count": 24,
   "id": "7b497d85",
   "metadata": {},
   "outputs": [],
   "source": [
    "#Concatenate Multiple columns in the Existing Data frame\n",
    "data_new=pd.concat([data,df],axis=1)"
   ]
  },
  {
   "cell_type": "markdown",
   "id": "1f057973",
   "metadata": {},
   "source": [
    "### Pivot Table "
   ]
  },
  {
   "cell_type": "code",
   "execution_count": 33,
   "id": "6fce3182",
   "metadata": {},
   "outputs": [
    {
     "data": {
      "text/html": [
       "<div>\n",
       "<style scoped>\n",
       "    .dataframe tbody tr th:only-of-type {\n",
       "        vertical-align: middle;\n",
       "    }\n",
       "\n",
       "    .dataframe tbody tr th {\n",
       "        vertical-align: top;\n",
       "    }\n",
       "\n",
       "    .dataframe thead th {\n",
       "        text-align: right;\n",
       "    }\n",
       "</style>\n",
       "<table border=\"1\" class=\"dataframe\">\n",
       "  <thead>\n",
       "    <tr style=\"text-align: right;\">\n",
       "      <th>age_cat</th>\n",
       "      <th>Youth</th>\n",
       "      <th>Mid-Age</th>\n",
       "      <th>Adult</th>\n",
       "    </tr>\n",
       "    <tr>\n",
       "      <th>Purchased</th>\n",
       "      <th></th>\n",
       "      <th></th>\n",
       "      <th></th>\n",
       "    </tr>\n",
       "  </thead>\n",
       "  <tbody>\n",
       "    <tr>\n",
       "      <th>0</th>\n",
       "      <td>59000</td>\n",
       "      <td>61000</td>\n",
       "      <td>74000</td>\n",
       "    </tr>\n",
       "    <tr>\n",
       "      <th>1</th>\n",
       "      <td>129000</td>\n",
       "      <td>112000</td>\n",
       "      <td>73000</td>\n",
       "    </tr>\n",
       "  </tbody>\n",
       "</table>\n",
       "</div>"
      ],
      "text/plain": [
       "age_cat     Youth  Mid-Age  Adult\n",
       "Purchased                        \n",
       "0           59000    61000  74000\n",
       "1          129000   112000  73000"
      ]
     },
     "execution_count": 33,
     "metadata": {},
     "output_type": "execute_result"
    }
   ],
   "source": [
    "pd.pivot_table(data_new,columns='age_cat',values='EstimatedSalary',aggfunc=np.median,index='Purchased') #index adds another column and compute median sal from those who purchased / not   #can also be done using groupby"
   ]
  },
  {
   "cell_type": "code",
   "execution_count": 35,
   "id": "0ea29fa0",
   "metadata": {},
   "outputs": [
    {
     "data": {
      "text/html": [
       "<div>\n",
       "<style scoped>\n",
       "    .dataframe tbody tr th:only-of-type {\n",
       "        vertical-align: middle;\n",
       "    }\n",
       "\n",
       "    .dataframe tbody tr th {\n",
       "        vertical-align: top;\n",
       "    }\n",
       "\n",
       "    .dataframe thead tr th {\n",
       "        text-align: left;\n",
       "    }\n",
       "</style>\n",
       "<table border=\"1\" class=\"dataframe\">\n",
       "  <thead>\n",
       "    <tr>\n",
       "      <th>age_cat</th>\n",
       "      <th colspan=\"2\" halign=\"left\">Youth</th>\n",
       "      <th colspan=\"2\" halign=\"left\">Mid-Age</th>\n",
       "      <th colspan=\"2\" halign=\"left\">Adult</th>\n",
       "    </tr>\n",
       "    <tr>\n",
       "      <th>Purchased</th>\n",
       "      <th>0</th>\n",
       "      <th>1</th>\n",
       "      <th>0</th>\n",
       "      <th>1</th>\n",
       "      <th>0</th>\n",
       "      <th>1</th>\n",
       "    </tr>\n",
       "  </thead>\n",
       "  <tbody>\n",
       "    <tr>\n",
       "      <th>EstimatedSalary</th>\n",
       "      <td>59000</td>\n",
       "      <td>129000</td>\n",
       "      <td>61000</td>\n",
       "      <td>112000</td>\n",
       "      <td>74000</td>\n",
       "      <td>73000</td>\n",
       "    </tr>\n",
       "  </tbody>\n",
       "</table>\n",
       "</div>"
      ],
      "text/plain": [
       "age_cat          Youth         Mid-Age          Adult       \n",
       "Purchased            0       1       0       1      0      1\n",
       "EstimatedSalary  59000  129000   61000  112000  74000  73000"
      ]
     },
     "execution_count": 35,
     "metadata": {},
     "output_type": "execute_result"
    }
   ],
   "source": [
    "pd.pivot_table(data_new,columns=['age_cat','Purchased'],values='EstimatedSalary',aggfunc=np.median)"
   ]
  },
  {
   "cell_type": "code",
   "execution_count": null,
   "id": "10f5ceb8",
   "metadata": {},
   "outputs": [],
   "source": []
  }
 ],
 "metadata": {
  "kernelspec": {
   "display_name": "Python 3 (ipykernel)",
   "language": "python",
   "name": "python3"
  },
  "language_info": {
   "codemirror_mode": {
    "name": "ipython",
    "version": 3
   },
   "file_extension": ".py",
   "mimetype": "text/x-python",
   "name": "python",
   "nbconvert_exporter": "python",
   "pygments_lexer": "ipython3",
   "version": "3.9.13"
  }
 },
 "nbformat": 4,
 "nbformat_minor": 5
}
